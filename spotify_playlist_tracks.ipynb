{
 "cells": [
  {
   "cell_type": "code",
   "execution_count": null,
   "id": "ade5b361",
   "metadata": {},
   "outputs": [],
   "source": [
    "import spotipy\n",
    "from spotipy.oauth2 import SpotifyClientCredentials\n",
    "import config\n",
    "\n",
    "#Initialize SpotiPy with user credentials\n",
    "sp = spotipy.Spotify(auth_manager=SpotifyClientCredentials(client_id= config.CLIENT_ID,\n",
    "                                                           client_secret= config.CLIENT_SECRET))\n",
    "\n",
    "playlist_uri = \"spotify:playlist:0DFaK0SIJJg0NzU0uzX04z\"\n",
    "results = sp.playlist_tracks(playlist_uri)\n",
    "\n",
    "# Extract song title and artist\n",
    "tracks = []\n",
    "for item in results['items']:\n",
    "    track = item['track']\n",
    "    if track:\n",
    "        track_name = track['name']\n",
    "        artist_name = track['artists'][0]['name']\n",
    "        tracks.append({'song_title': track_name, 'artist': artist_name})\n",
    "\n",
    "# Save to CSV\n",
    "dfplaylist = pd.DataFrame(tracks)\n",
    "\n",
    "\n",
    "os.makedirs(\"playlist\", exist_ok=True)\n",
    "csv_path = os.path.join(\"playlist\", \"spotify_playlist_tracks.csv\")\n",
    "dfplaylist.to_csv(csv_path, index=False)\n",
    "\n",
    "\n",
    "print(\"Playlist saved to 'spotify_playlist_tracks.csv'\")\n"
   ]
  }
 ],
 "metadata": {
  "language_info": {
   "name": "python"
  }
 },
 "nbformat": 4,
 "nbformat_minor": 5
}
