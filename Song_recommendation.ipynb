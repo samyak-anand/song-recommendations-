{
 "cells": [
  {
   "cell_type": "code",
   "execution_count": null,
   "id": "ab54791f",
   "metadata": {},
   "outputs": [],
   "source": [
    "!pip install spotipy"
   ]
  },
  {
   "cell_type": "code",
   "execution_count": null,
   "id": "330fd2f0",
   "metadata": {},
   "outputs": [],
   "source": [
    "import spotipy\n",
    "import pandas as pd\n",
    "import json\n",
    "from spotipy.oauth2 import SpotifyClientCredentials\n",
    "import config"
   ]
  },
  {
   "cell_type": "markdown",
   "id": "d39f1224",
   "metadata": {},
   "source": [
    "Cleaning Songs dataset "
   ]
  },
  {
   "cell_type": "code",
   "execution_count": null,
   "id": "2cfeac52",
   "metadata": {},
   "outputs": [],
   "source": [
    "song_arc_df= pd.read_csv(r'C:\\Users\\samya\\PyCharmProject\\song-recommendations-\\Dataset\\audio_features_dataset_curated.csv')"
   ]
  },
  {
   "cell_type": "code",
   "execution_count": null,
   "id": "a8fd9759",
   "metadata": {},
   "outputs": [],
   "source": [
    "song_arc_df.head()"
   ]
  },
  {
   "cell_type": "code",
   "execution_count": null,
   "id": "3b365720",
   "metadata": {},
   "outputs": [],
   "source": [
    "#checking Null value \n",
    "song_arc_df.isnull().sum()"
   ]
  },
  {
   "cell_type": "code",
   "execution_count": null,
   "id": "a4647f90",
   "metadata": {},
   "outputs": [],
   "source": [
    "#shape of dataframe\n",
    "song_arc_df.shape"
   ]
  },
  {
   "cell_type": "code",
   "execution_count": null,
   "id": "cb30db12",
   "metadata": {},
   "outputs": [],
   "source": [
    "song_arc_df.info()"
   ]
  },
  {
   "cell_type": "code",
   "execution_count": null,
   "id": "2f39f454",
   "metadata": {},
   "outputs": [],
   "source": [
    "song_arc_df"
   ]
  },
  {
   "cell_type": "code",
   "execution_count": null,
   "id": "7f5faa66",
   "metadata": {},
   "outputs": [],
   "source": [
    "song_arc_df.columns"
   ]
  },
  {
   "cell_type": "code",
   "execution_count": null,
   "id": "529893a9",
   "metadata": {},
   "outputs": [],
   "source": [
    "song_arc_df.drop(columns=['explicit','mode','key','time_signature','popularity'], inplace=True)"
   ]
  },
  {
   "cell_type": "code",
   "execution_count": null,
   "id": "39b3740f",
   "metadata": {},
   "outputs": [],
   "source": [
    "song_arc_df.columns"
   ]
  },
  {
   "cell_type": "code",
   "execution_count": null,
   "id": "326a76de",
   "metadata": {},
   "outputs": [],
   "source": [
    "song_arc_df"
   ]
  },
  {
   "cell_type": "code",
   "execution_count": null,
   "id": "c42a5ce2",
   "metadata": {},
   "outputs": [],
   "source": [
    "song_arc_df.shape"
   ]
  },
  {
   "cell_type": "code",
   "execution_count": null,
   "id": "58cc36df",
   "metadata": {},
   "outputs": [],
   "source": [
    "song_arc_df.dropna(inplace=True)"
   ]
  },
  {
   "cell_type": "code",
   "execution_count": null,
   "id": "7770f73f",
   "metadata": {},
   "outputs": [],
   "source": [
    "song_arc_df.isnull().sum()"
   ]
  },
  {
   "cell_type": "code",
   "execution_count": null,
   "id": "0d90ce2c",
   "metadata": {},
   "outputs": [],
   "source": [
    "song_arc_df.shape"
   ]
  },
  {
   "cell_type": "code",
   "execution_count": null,
   "id": "0119b46b",
   "metadata": {},
   "outputs": [],
   "source": [
    "song_arc_df.describe()"
   ]
  },
  {
   "cell_type": "code",
   "execution_count": null,
   "id": "b1debca7",
   "metadata": {},
   "outputs": [],
   "source": [
    "!pip install scikit-learn"
   ]
  },
  {
   "cell_type": "code",
   "execution_count": null,
   "id": "0f8f2840",
   "metadata": {},
   "outputs": [],
   "source": [
    "from sklearn.cluster import KMeans\n",
    "import matplotlib.pyplot as plt"
   ]
  },
  {
   "cell_type": "code",
   "execution_count": null,
   "id": "2b6e669a",
   "metadata": {},
   "outputs": [],
   "source": [
    "def ms_to_mmss(ms):\n",
    "    min= ms// 60000\n",
    "    sec= (ms% 60000)//1000\n",
    "    return f\"{min:02}:{sec:02}\"\n",
    "song_arc_df['duration_mmss'] = song_arc_df['duration_ms'].apply(ms_to_mmss)"
   ]
  },
  {
   "cell_type": "code",
   "execution_count": null,
   "id": "6fcf7ecf",
   "metadata": {},
   "outputs": [],
   "source": [
    "song_arc_df"
   ]
  },
  {
   "cell_type": "code",
   "execution_count": null,
   "id": "0db5179d",
   "metadata": {},
   "outputs": [],
   "source": [
    "song_arc_df.nunique()"
   ]
  },
  {
   "cell_type": "code",
   "execution_count": null,
   "id": "c559efcd",
   "metadata": {},
   "outputs": [],
   "source": [
    "song_arc_df.info()"
   ]
  },
  {
   "cell_type": "code",
   "execution_count": null,
   "id": "ae996e6c",
   "metadata": {},
   "outputs": [],
   "source": [
    "\n",
    "# Drop rows with missing values in essential columns\n",
    "df_cleaned = song_arc_df.dropna(subset=[\"artists\", \"album_name\", \"track_name\"])\n"
   ]
  },
  {
   "cell_type": "code",
   "execution_count": null,
   "id": "8ac7d537",
   "metadata": {},
   "outputs": [],
   "source": [
    "df_cleaned"
   ]
  },
  {
   "cell_type": "code",
   "execution_count": null,
   "id": "daee8308",
   "metadata": {},
   "outputs": [],
   "source": [
    "\n",
    "# Select relevant audio features\n",
    "features = [\n",
    "    \"duration_ms\", \"danceability\", \"energy\", \"loudness\", \"speechiness\",\n",
    "    \"acousticness\", \"instrumentalness\", \"liveness\",\n",
    "    \"valence\", \"tempo\"\n",
    "]\n"
   ]
  },
  {
   "cell_type": "code",
   "execution_count": null,
   "id": "cf799e6d",
   "metadata": {},
   "outputs": [],
   "source": [
    "features"
   ]
  },
  {
   "cell_type": "code",
   "execution_count": null,
   "id": "03411e48",
   "metadata": {},
   "outputs": [],
   "source": [
    "X=df_cleaned[features]"
   ]
  },
  {
   "cell_type": "code",
   "execution_count": null,
   "id": "2f4ee92c",
   "metadata": {},
   "outputs": [],
   "source": [
    "from sklearn.discriminant_analysis import StandardScaler\n",
    "\n",
    "\n",
    "scaler= StandardScaler()\n",
    "X_scaled = scaler.fit_transform(X)\n"
   ]
  },
  {
   "cell_type": "code",
   "execution_count": null,
   "id": "61c8ed87",
   "metadata": {},
   "outputs": [],
   "source": [
    "X_scaled"
   ]
  },
  {
   "cell_type": "code",
   "execution_count": null,
   "id": "41c912f0",
   "metadata": {},
   "outputs": [],
   "source": [
    "kmeans = KMeans(n_clusters=15 ,random_state=42)\n",
    "kmeans.fit(X_scaled)\n",
    "pred= kmeans.predict(X_scaled)"
   ]
  },
  {
   "cell_type": "code",
   "execution_count": null,
   "id": "4108e7f9",
   "metadata": {},
   "outputs": [],
   "source": [
    "from sklearn.decomposition import PCA\n",
    "\n",
    "\n",
    "pca =PCA(n_components=2)\n",
    "\n",
    "X_pca = pca.fit_transform(X_scaled)\n",
    "\n",
    "# Plot the 2D PCA scatter plot with cluster labels\n",
    "plt.figure(figsize=(8, 6))\n",
    "plt.scatter(X_pca[:, 0], X_pca[:, 1], c=pred, cmap='tab10', alpha=0.6)\n",
    "plt.xlabel(\"PCA Component 1\")\n",
    "plt.ylabel(\"PCA Component 2\")\n",
    "plt.title(\"KMeans Clustering of Songs (PCA-reduced Features)\")\n",
    "plt.colorbar(label='Cluster')\n",
    "plt.grid(True)\n",
    "plt.tight_layout()\n",
    "plt.show()\n"
   ]
  },
  {
   "cell_type": "code",
   "execution_count": null,
   "id": "b0bd9a09",
   "metadata": {},
   "outputs": [],
   "source": [
    "\n",
    "# Scatter plot using the first two standardized features\n",
    "plt.figure(figsize=(16, 16))\n",
    "plt.scatter(X_scaled[:, 0], X_scaled[:, 1], c=pred, cmap='tab10', alpha=0.6)\n",
    "#plt.xlabel(\"Standardized Feature 1 (e.g., Danceability)\")\n",
    "#plt.ylabel(\"Standardized Feature 2 (e.g., Energy)\")\n",
    "#plt.title(\"KMeans Clustering of Songs (15 Clusters)\")\n",
    "plt.colorbar(label='Cluster')\n",
    "plt.grid(True)\n",
    "plt.tight_layout()\n",
    "plt.show()\n"
   ]
  },
  {
   "cell_type": "code",
   "execution_count": null,
   "id": "10a251f6",
   "metadata": {},
   "outputs": [],
   "source": [
    "# ward linkage tends to produce relatively equally sized clusters\n",
    "from sklearn import cluster\n",
    "\n",
    "\n",
    "agglomerative = cluster.AgglomerativeClustering(n_clusters=3,linkage='ward')\n",
    "pred = agglomerative.fit_predict(X)\n",
    "\n",
    "plt.figure(figsize=(5, 5))\n",
    "plt.scatter(X[:, 0], X[:, 1], c=pred,alpha=0.5)\n",
    "plt.show()"
   ]
  },
  {
   "cell_type": "code",
   "execution_count": null,
   "id": "6d526e9a",
   "metadata": {},
   "outputs": [],
   "source": [
    "inertia = []\n",
    "\n",
    "k_range = range(1, 16)\n",
    "for k in k_range:\n",
    "    kmeans = KMeans(n_clusters=k, random_state=42)\n",
    "    kmeans.fit(X_scaled)\n",
    "    inertia.append(kmeans.inertia_)\n",
    "\n",
    "plt.figure(figsize=(8, 5))\n",
    "plt.plot(k_range, inertia, marker='o')\n",
    "plt.title(\"Elbow Method for Optimal k\")\n",
    "plt.xlabel(\"Number of Clusters (k)\")\n",
    "plt.ylabel(\"Inertia\")\n",
    "plt.grid(True)\n",
    "plt.tight_layout()\n",
    "plt.show()\n"
   ]
  },
  {
   "cell_type": "code",
   "execution_count": null,
   "id": "7ead46ca",
   "metadata": {},
   "outputs": [],
   "source": [
    "df_cleaned[\"cluster\"] = kmeans.fit_predict(X_scaled)"
   ]
  },
  {
   "cell_type": "code",
   "execution_count": null,
   "id": "a79d750d",
   "metadata": {},
   "outputs": [],
   "source": [
    "df_cleaned"
   ]
  },
  {
   "cell_type": "code",
   "execution_count": null,
   "id": "7817244e",
   "metadata": {},
   "outputs": [],
   "source": [
    "from sklearn.metrics import silhouette_score\n",
    "import pickle\n",
    "import os\n",
    "\n",
    "# Define the directory name or path\n",
    "directory_name = \"pickles\"\n",
    "\n",
    "# Create the directory\n",
    "os.makedirs(directory_name, exist_ok=True)\n",
    "\n",
    "print(f\"Directory '{directory_name}' created successfully.\")\n",
    "\n",
    "cluster_range= range(5, 25)\n",
    "silhouette_scores= []\n",
    "\n",
    "\n",
    "for n_clusters in cluster_range:\n",
    "    kmeans = KMeans(n_clusters=n_clusters, random_state=42, n_init = 5)\n",
    "    cluster_labels = kmeans.fit_predict(X_scaled)\n",
    "    #pickling\n",
    "    filename = \"pickles/kmeans_\" + str(n_clusters) + \".pickle\"\n",
    "    with open(filename, \"wb\") as f:\n",
    "        pickle.dump(kmeans,f)\n",
    "    score = silhouette_score(X_scaled, cluster_labels)\n",
    "    silhouette_scores.append(score)\n",
    "\n",
    "\n"
   ]
  },
  {
   "cell_type": "code",
   "execution_count": null,
   "id": "6c076fec",
   "metadata": {},
   "outputs": [],
   "source": [
    "plt.figure(figsize=(8, 5))\n",
    "plt.plot(cluster_range, silhouette_scores, marker='o', linestyle='-', color='b')\n",
    "plt.xlabel(\"Number of Clusters\")\n",
    "plt.ylabel(\"Silhouette Score\")\n",
    "plt.title(\"Silhouette Score for Different Cluster Counts\")\n",
    "plt.xticks(cluster_range)\n",
    "plt.grid(True)\n",
    "plt.show()"
   ]
  },
  {
   "cell_type": "code",
   "execution_count": null,
   "id": "de673b84",
   "metadata": {},
   "outputs": [],
   "source": [
    "def load(filename = \"filename.pickle\"): \n",
    "    try: \n",
    "        with open(\"pickles/\"+filename, \"rb\") as f: \n",
    "            return pickle.load(f) \n",
    "        \n",
    "    except FileNotFoundError: \n",
    "        print(\"File not found!\") "
   ]
  },
  {
   "cell_type": "code",
   "execution_count": null,
   "id": "086006bc",
   "metadata": {},
   "outputs": [],
   "source": [
    "kmeans12 = load(\"kmeans_12.pickle\")\n",
    "kmeans15 = load(\"kmeans_15.pickle\")"
   ]
  },
  {
   "cell_type": "code",
   "execution_count": null,
   "id": "1d6aab92",
   "metadata": {},
   "outputs": [],
   "source": [
    "kmeans12.predict(X_scaled)"
   ]
  },
  {
   "cell_type": "code",
   "execution_count": null,
   "id": "ddc0a0f6",
   "metadata": {},
   "outputs": [],
   "source": [
    "kmeans15.predict(X_scaled)"
   ]
  },
  {
   "cell_type": "code",
   "execution_count": null,
   "id": "35f70c8a",
   "metadata": {},
   "outputs": [],
   "source": []
  }
 ],
 "metadata": {
  "kernelspec": {
   "display_name": "Python 3",
   "language": "python",
   "name": "python3"
  },
  "language_info": {
   "codemirror_mode": {
    "name": "ipython",
    "version": 3
   },
   "file_extension": ".py",
   "mimetype": "text/x-python",
   "name": "python",
   "nbconvert_exporter": "python",
   "pygments_lexer": "ipython3",
   "version": "3.11.5"
  }
 },
 "nbformat": 4,
 "nbformat_minor": 5
}
