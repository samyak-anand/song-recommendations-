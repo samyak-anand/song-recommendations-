{
 "cells": [
  {
   "cell_type": "code",
   "execution_count": 2,
   "id": "acb43658",
   "metadata": {},
   "outputs": [],
   "source": [
    "import pandas as pd\n",
    "import requests\n",
    "from bs4 import BeautifulSoup"
   ]
  },
  {
   "cell_type": "code",
   "execution_count": 3,
   "id": "52fa200a",
   "metadata": {},
   "outputs": [],
   "source": [
    "url='https://www.billboard.com/charts/billboard-global-200/'\n",
    "response = requests.get(url)"
   ]
  },
  {
   "cell_type": "code",
   "execution_count": 4,
   "id": "e0ee1491",
   "metadata": {},
   "outputs": [
    {
     "data": {
      "text/plain": [
       "200"
      ]
     },
     "execution_count": 4,
     "metadata": {},
     "output_type": "execute_result"
    }
   ],
   "source": [
    "response.status_code"
   ]
  },
  {
   "cell_type": "code",
   "execution_count": 5,
   "id": "e19a92ba",
   "metadata": {},
   "outputs": [],
   "source": [
    "soup= BeautifulSoup(response.content)"
   ]
  },
  {
   "cell_type": "code",
   "execution_count": 6,
   "id": "c6b61eb5",
   "metadata": {},
   "outputs": [],
   "source": [
    "song_title= soup.select('h3.a-no-trucate')[0::2]\n",
    "art= soup.select('span.a-no-trucate')[0::2]"
   ]
  },
  {
   "cell_type": "code",
   "execution_count": 7,
   "id": "0d805419",
   "metadata": {},
   "outputs": [],
   "source": [
    "tp_song= [i.get_text(strip=True) for i in song_title]\n",
    "artits= [i.get_text(strip=True) for i in art]"
   ]
  },
  {
   "cell_type": "code",
   "execution_count": 8,
   "id": "5af954c5",
   "metadata": {},
   "outputs": [
    {
     "data": {
      "text/plain": [
       "['Ordinary',\n",
       " 'Die With A Smile',\n",
       " 'Birds Of A Feather',\n",
       " 'Beautiful Things',\n",
       " 'Shake It To The Max (Fly)',\n",
       " 'Love Me Not',\n",
       " 'What I Want',\n",
       " 'Espresso',\n",
       " 'Triple Lavada',\n",
       " 'Undressed',\n",
       " 'Pink Pony Club',\n",
       " 'Wildflower',\n",
       " 'That’s So True',\n",
       " 'Mystical Magical',\n",
       " 'Just In Case',\n",
       " 'No Tiene Sentido',\n",
       " 'Azizam',\n",
       " 'Nokia',\n",
       " 'Marlboro Rojo',\n",
       " 'No One Noticed',\n",
       " 'Gnarly',\n",
       " 'Anxiety',\n",
       " 'Sailor Song',\n",
       " 'Si Antes Te Hubiera Conocido',\n",
       " 'All The Stars',\n",
       " 'Party 4 U',\n",
       " 'Creep',\n",
       " 'Dreams',\n",
       " 'Blue Strips',\n",
       " 'Taste',\n",
       " 'Fame Is A Gun',\n",
       " 'Mutt',\n",
       " 'EOO',\n",
       " 'Yellow',\n",
       " 'Perfect',\n",
       " 'Gata Only',\n",
       " 'Please Please Please',\n",
       " 'I Got Better',\n",
       " 'Sweater Weather',\n",
       " 'Viva La Vida',\n",
       " 'Nuevayol',\n",
       " 'Snooze',\n",
       " 'Cruel Summer',\n",
       " 'Capaz',\n",
       " 'Luna Bala',\n",
       " 'Who',\n",
       " 'As It Was',\n",
       " 'Me Jalo',\n",
       " 'Blinding Lights',\n",
       " 'Take On Me',\n",
       " 'Move',\n",
       " 'Te Queria Ver',\n",
       " \"Sorry I'm Here For Someone Else\",\n",
       " 'Chihiro',\n",
       " 'See You Again',\n",
       " 'Blue',\n",
       " 'Voy A Llevarte Pa PR',\n",
       " 'I Adore You',\n",
       " 'Numb',\n",
       " 'Montagem Tomada',\n",
       " 'Por Esos Ojos',\n",
       " 'Love Somebody',\n",
       " 'Flowers',\n",
       " 'Seven',\n",
       " 'Poker Face',\n",
       " 'Believer',\n",
       " 'Mr. Brightside',\n",
       " 'Something Just Like This',\n",
       " \"We Can't Be Friends (Wait For Your Love)\",\n",
       " 'Superman',\n",
       " 'Blessings',\n",
       " 'We Are The People',\n",
       " 'Sparks',\n",
       " 'Ansiedad',\n",
       " 'Vita Fer',\n",
       " 'Just The Way You Are',\n",
       " 'Loco',\n",
       " 'Busy Woman',\n",
       " 'A Sky Full Of Stars',\n",
       " 'Take Me To Church',\n",
       " 'Somewhere Only We Know',\n",
       " 'Nope Your Too Late I Already Died',\n",
       " 'Amigos? No.',\n",
       " 'Wheels On The Bus',\n",
       " 'Danza Kuduro',\n",
       " \"Can't Hold Us\",\n",
       " 'Breakfast',\n",
       " 'Money Trees',\n",
       " 'Nice To Meet You',\n",
       " 'Without Me',\n",
       " 'The Emptiness Machine',\n",
       " 'Enter Sandman',\n",
       " 'Burning Blue',\n",
       " \"Gangsta's Paradise\",\n",
       " 'Lovely',\n",
       " 'Until I Found You',\n",
       " 'Worst Way',\n",
       " 'The Chain',\n",
       " 'Cliche',\n",
       " 'I Remember Everything']"
      ]
     },
     "execution_count": 8,
     "metadata": {},
     "output_type": "execute_result"
    }
   ],
   "source": [
    "tp_song"
   ]
  },
  {
   "cell_type": "code",
   "execution_count": 9,
   "id": "0013ec2b",
   "metadata": {},
   "outputs": [
    {
     "name": "stdout",
     "output_type": "stream",
     "text": [
      "100\n",
      "100\n"
     ]
    }
   ],
   "source": [
    "print(len(tp_song))\n",
    "print(len(artits))\n"
   ]
  },
  {
   "cell_type": "code",
   "execution_count": 10,
   "id": "31618834",
   "metadata": {},
   "outputs": [
    {
     "data": {
      "text/html": [
       "<div>\n",
       "<style scoped>\n",
       "    .dataframe tbody tr th:only-of-type {\n",
       "        vertical-align: middle;\n",
       "    }\n",
       "\n",
       "    .dataframe tbody tr th {\n",
       "        vertical-align: top;\n",
       "    }\n",
       "\n",
       "    .dataframe thead th {\n",
       "        text-align: right;\n",
       "    }\n",
       "</style>\n",
       "<table border=\"1\" class=\"dataframe\">\n",
       "  <thead>\n",
       "    <tr style=\"text-align: right;\">\n",
       "      <th></th>\n",
       "      <th>Songs</th>\n",
       "      <th>Artist</th>\n",
       "    </tr>\n",
       "  </thead>\n",
       "  <tbody>\n",
       "    <tr>\n",
       "      <th>0</th>\n",
       "      <td>Ordinary</td>\n",
       "      <td>Alex Warren</td>\n",
       "    </tr>\n",
       "    <tr>\n",
       "      <th>1</th>\n",
       "      <td>Die With A Smile</td>\n",
       "      <td>Lady Gaga &amp; Bruno Mars</td>\n",
       "    </tr>\n",
       "    <tr>\n",
       "      <th>2</th>\n",
       "      <td>Birds Of A Feather</td>\n",
       "      <td>Billie Eilish</td>\n",
       "    </tr>\n",
       "    <tr>\n",
       "      <th>3</th>\n",
       "      <td>Beautiful Things</td>\n",
       "      <td>Benson Boone</td>\n",
       "    </tr>\n",
       "    <tr>\n",
       "      <th>4</th>\n",
       "      <td>Shake It To The Max (Fly)</td>\n",
       "      <td>MOLIY, Silent Addy, Skillibeng &amp; Shenseea</td>\n",
       "    </tr>\n",
       "    <tr>\n",
       "      <th>...</th>\n",
       "      <td>...</td>\n",
       "      <td>...</td>\n",
       "    </tr>\n",
       "    <tr>\n",
       "      <th>95</th>\n",
       "      <td>Until I Found You</td>\n",
       "      <td>Stephen Sanchez</td>\n",
       "    </tr>\n",
       "    <tr>\n",
       "      <th>96</th>\n",
       "      <td>Worst Way</td>\n",
       "      <td>Riley Green</td>\n",
       "    </tr>\n",
       "    <tr>\n",
       "      <th>97</th>\n",
       "      <td>The Chain</td>\n",
       "      <td>Fleetwood Mac</td>\n",
       "    </tr>\n",
       "    <tr>\n",
       "      <th>98</th>\n",
       "      <td>Cliche</td>\n",
       "      <td>mgk</td>\n",
       "    </tr>\n",
       "    <tr>\n",
       "      <th>99</th>\n",
       "      <td>I Remember Everything</td>\n",
       "      <td>Zach Bryan Featuring Kacey Musgraves</td>\n",
       "    </tr>\n",
       "  </tbody>\n",
       "</table>\n",
       "<p>100 rows × 2 columns</p>\n",
       "</div>"
      ],
      "text/plain": [
       "                        Songs                                     Artist\n",
       "0                    Ordinary                                Alex Warren\n",
       "1            Die With A Smile                     Lady Gaga & Bruno Mars\n",
       "2          Birds Of A Feather                              Billie Eilish\n",
       "3            Beautiful Things                               Benson Boone\n",
       "4   Shake It To The Max (Fly)  MOLIY, Silent Addy, Skillibeng & Shenseea\n",
       "..                        ...                                        ...\n",
       "95          Until I Found You                            Stephen Sanchez\n",
       "96                  Worst Way                                Riley Green\n",
       "97                  The Chain                              Fleetwood Mac\n",
       "98                     Cliche                                        mgk\n",
       "99      I Remember Everything       Zach Bryan Featuring Kacey Musgraves\n",
       "\n",
       "[100 rows x 2 columns]"
      ]
     },
     "execution_count": 10,
     "metadata": {},
     "output_type": "execute_result"
    }
   ],
   "source": [
    "song_dict={'Songs':tp_song,'Artist': artits}\n",
    "song_df=pd.DataFrame(song_dict)\n",
    "song_df"
   ]
  },
  {
   "cell_type": "code",
   "execution_count": 11,
   "id": "53baf68e",
   "metadata": {},
   "outputs": [],
   "source": [
    "import spotipy\n",
    "import pandas as pd\n",
    "import json\n",
    "from spotipy.oauth2 import SpotifyClientCredentials\n",
    "import  config"
   ]
  },
  {
   "cell_type": "code",
   "execution_count": 19,
   "id": "09656e9c",
   "metadata": {},
   "outputs": [],
   "source": [
    "#Initialize SpotiPy with user credentials\n",
    "sp = spotipy.Spotify(auth_manager=SpotifyClientCredentials(client_id= config.CLIENT_ID,\n",
    "                                                           client_secret= config.CLIENT_SECRET\n",
    "                                                           ))\n"
   ]
  },
  {
   "cell_type": "code",
   "execution_count": 20,
   "id": "ea933f39",
   "metadata": {},
   "outputs": [],
   "source": [
    "def get_track_id(songs, artist):\n",
    "    query = f\"{songs}{artist}\"\n",
    "    result = sp.search(q=query, type='track', limit=1)\n",
    "    tracks = result.get('tracks', {}).get('items', [])\n",
    "    if tracks:\n",
    "        return tracks[0]['id']\n",
    "    return  None\n",
    "                         "
   ]
  },
  {
   "cell_type": "code",
   "execution_count": 21,
   "id": "50205047",
   "metadata": {},
   "outputs": [],
   "source": [
    "\n",
    "song_df['track_id'] = song_df.apply(lambda row: get_track_id(row['Songs'], row['Artist']), axis=1)\n"
   ]
  },
  {
   "cell_type": "code",
   "execution_count": 22,
   "id": "3840dc04",
   "metadata": {},
   "outputs": [
    {
     "data": {
      "text/html": [
       "<div>\n",
       "<style scoped>\n",
       "    .dataframe tbody tr th:only-of-type {\n",
       "        vertical-align: middle;\n",
       "    }\n",
       "\n",
       "    .dataframe tbody tr th {\n",
       "        vertical-align: top;\n",
       "    }\n",
       "\n",
       "    .dataframe thead th {\n",
       "        text-align: right;\n",
       "    }\n",
       "</style>\n",
       "<table border=\"1\" class=\"dataframe\">\n",
       "  <thead>\n",
       "    <tr style=\"text-align: right;\">\n",
       "      <th></th>\n",
       "      <th>Songs</th>\n",
       "      <th>Artist</th>\n",
       "      <th>track_id</th>\n",
       "    </tr>\n",
       "  </thead>\n",
       "  <tbody>\n",
       "    <tr>\n",
       "      <th>0</th>\n",
       "      <td>Ordinary</td>\n",
       "      <td>Alex Warren</td>\n",
       "      <td>6qqrTXSdwiJaq8SO0X2lSe</td>\n",
       "    </tr>\n",
       "    <tr>\n",
       "      <th>1</th>\n",
       "      <td>Die With A Smile</td>\n",
       "      <td>Lady Gaga &amp; Bruno Mars</td>\n",
       "      <td>2QmXQ2s0B0CLRQcMLEHif9</td>\n",
       "    </tr>\n",
       "    <tr>\n",
       "      <th>2</th>\n",
       "      <td>Birds Of A Feather</td>\n",
       "      <td>Billie Eilish</td>\n",
       "      <td>6dOtVTDdiauQNBQEDOtlAB</td>\n",
       "    </tr>\n",
       "    <tr>\n",
       "      <th>3</th>\n",
       "      <td>Beautiful Things</td>\n",
       "      <td>Benson Boone</td>\n",
       "      <td>4CDXYCzPMXTAi6nuyixVnM</td>\n",
       "    </tr>\n",
       "    <tr>\n",
       "      <th>4</th>\n",
       "      <td>Shake It To The Max (Fly)</td>\n",
       "      <td>MOLIY, Silent Addy, Skillibeng &amp; Shenseea</td>\n",
       "      <td>0QCIpQV3twfqo9kh0t8Zza</td>\n",
       "    </tr>\n",
       "    <tr>\n",
       "      <th>...</th>\n",
       "      <td>...</td>\n",
       "      <td>...</td>\n",
       "      <td>...</td>\n",
       "    </tr>\n",
       "    <tr>\n",
       "      <th>95</th>\n",
       "      <td>Until I Found You</td>\n",
       "      <td>Stephen Sanchez</td>\n",
       "      <td>2RkZ5LkEzeHGRsmDqKwmaJ</td>\n",
       "    </tr>\n",
       "    <tr>\n",
       "      <th>96</th>\n",
       "      <td>Worst Way</td>\n",
       "      <td>Riley Green</td>\n",
       "      <td>7GX5flRQZVHRAGd6B4TmDO</td>\n",
       "    </tr>\n",
       "    <tr>\n",
       "      <th>97</th>\n",
       "      <td>The Chain</td>\n",
       "      <td>Fleetwood Mac</td>\n",
       "      <td>1IMa0Il4w988MwZCUcISix</td>\n",
       "    </tr>\n",
       "    <tr>\n",
       "      <th>98</th>\n",
       "      <td>Cliche</td>\n",
       "      <td>mgk</td>\n",
       "      <td>3aD33slymVwdEcdbKUBnDu</td>\n",
       "    </tr>\n",
       "    <tr>\n",
       "      <th>99</th>\n",
       "      <td>I Remember Everything</td>\n",
       "      <td>Zach Bryan Featuring Kacey Musgraves</td>\n",
       "      <td>4tkiLZ2Q7SuaeSiSi56rnJ</td>\n",
       "    </tr>\n",
       "  </tbody>\n",
       "</table>\n",
       "<p>100 rows × 3 columns</p>\n",
       "</div>"
      ],
      "text/plain": [
       "                        Songs                                     Artist  \\\n",
       "0                    Ordinary                                Alex Warren   \n",
       "1            Die With A Smile                     Lady Gaga & Bruno Mars   \n",
       "2          Birds Of A Feather                              Billie Eilish   \n",
       "3            Beautiful Things                               Benson Boone   \n",
       "4   Shake It To The Max (Fly)  MOLIY, Silent Addy, Skillibeng & Shenseea   \n",
       "..                        ...                                        ...   \n",
       "95          Until I Found You                            Stephen Sanchez   \n",
       "96                  Worst Way                                Riley Green   \n",
       "97                  The Chain                              Fleetwood Mac   \n",
       "98                     Cliche                                        mgk   \n",
       "99      I Remember Everything       Zach Bryan Featuring Kacey Musgraves   \n",
       "\n",
       "                  track_id  \n",
       "0   6qqrTXSdwiJaq8SO0X2lSe  \n",
       "1   2QmXQ2s0B0CLRQcMLEHif9  \n",
       "2   6dOtVTDdiauQNBQEDOtlAB  \n",
       "3   4CDXYCzPMXTAi6nuyixVnM  \n",
       "4   0QCIpQV3twfqo9kh0t8Zza  \n",
       "..                     ...  \n",
       "95  2RkZ5LkEzeHGRsmDqKwmaJ  \n",
       "96  7GX5flRQZVHRAGd6B4TmDO  \n",
       "97  1IMa0Il4w988MwZCUcISix  \n",
       "98  3aD33slymVwdEcdbKUBnDu  \n",
       "99  4tkiLZ2Q7SuaeSiSi56rnJ  \n",
       "\n",
       "[100 rows x 3 columns]"
      ]
     },
     "execution_count": 22,
     "metadata": {},
     "output_type": "execute_result"
    }
   ],
   "source": [
    "song_df"
   ]
  },
  {
   "cell_type": "code",
   "execution_count": 24,
   "id": "18327956",
   "metadata": {},
   "outputs": [],
   "source": [
    "track_id=[]\n",
    "track_id=song_df['track_id']"
   ]
  },
  {
   "cell_type": "code",
   "execution_count": 25,
   "id": "ae7b419b",
   "metadata": {},
   "outputs": [
    {
     "data": {
      "text/plain": [
       "0     6qqrTXSdwiJaq8SO0X2lSe\n",
       "1     2QmXQ2s0B0CLRQcMLEHif9\n",
       "2     6dOtVTDdiauQNBQEDOtlAB\n",
       "3     4CDXYCzPMXTAi6nuyixVnM\n",
       "4     0QCIpQV3twfqo9kh0t8Zza\n",
       "               ...          \n",
       "95    2RkZ5LkEzeHGRsmDqKwmaJ\n",
       "96    7GX5flRQZVHRAGd6B4TmDO\n",
       "97    1IMa0Il4w988MwZCUcISix\n",
       "98    3aD33slymVwdEcdbKUBnDu\n",
       "99    4tkiLZ2Q7SuaeSiSi56rnJ\n",
       "Name: track_id, Length: 100, dtype: object"
      ]
     },
     "execution_count": 25,
     "metadata": {},
     "output_type": "execute_result"
    }
   ],
   "source": [
    "track_id"
   ]
  },
  {
   "cell_type": "code",
   "execution_count": null,
   "id": "5656bb71",
   "metadata": {},
   "outputs": [],
   "source": [
    "import os\n",
    "os.makedirs(\"playlist\", exist_ok=True)\n",
    "csv_path = os.path.join(\"playlist\", \"top_100_billboard.csv\")\n",
    "song_df.to_csv(csv_path, index=False)\n",
    "\n"
   ]
  }
 ],
 "metadata": {
  "kernelspec": {
   "display_name": "Python 3",
   "language": "python",
   "name": "python3"
  },
  "language_info": {
   "codemirror_mode": {
    "name": "ipython",
    "version": 3
   },
   "file_extension": ".py",
   "mimetype": "text/x-python",
   "name": "python",
   "nbconvert_exporter": "python",
   "pygments_lexer": "ipython3",
   "version": "3.11.5"
  }
 },
 "nbformat": 4,
 "nbformat_minor": 5
}
