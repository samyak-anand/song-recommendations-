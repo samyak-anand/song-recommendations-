{
 "cells": [
  {
   "cell_type": "code",
   "execution_count": 23,
   "id": "acb43658",
   "metadata": {},
   "outputs": [],
   "source": [
    "import pandas as pd\n",
    "import requests\n",
    "from bs4 import BeautifulSoup"
   ]
  },
  {
   "cell_type": "code",
   "execution_count": 24,
   "id": "52fa200a",
   "metadata": {},
   "outputs": [],
   "source": [
    "url='https://www.billboard.com/charts/billboard-global-200/'\n",
    "response = requests.get(url)"
   ]
  },
  {
   "cell_type": "code",
   "execution_count": 25,
   "id": "e0ee1491",
   "metadata": {},
   "outputs": [
    {
     "data": {
      "text/plain": [
       "200"
      ]
     },
     "execution_count": 25,
     "metadata": {},
     "output_type": "execute_result"
    }
   ],
   "source": [
    "response.status_code"
   ]
  },
  {
   "cell_type": "code",
   "execution_count": 26,
   "id": "e19a92ba",
   "metadata": {},
   "outputs": [],
   "source": [
    "soup= BeautifulSoup(response.content)"
   ]
  },
  {
   "cell_type": "code",
   "execution_count": 27,
   "id": "c6b61eb5",
   "metadata": {},
   "outputs": [],
   "source": [
    "song_title= soup.select('h3.a-no-trucate')[0::2]\n",
    "art= soup.select('span.a-no-trucate')[0::2]"
   ]
  },
  {
   "cell_type": "code",
   "execution_count": 28,
   "id": "0d805419",
   "metadata": {},
   "outputs": [],
   "source": [
    "tp_song= [i.get_text(strip=True) for i in song_title]\n",
    "artits= [i.get_text(strip=True) for i in art]"
   ]
  },
  {
   "cell_type": "code",
   "execution_count": 29,
   "id": "5af954c5",
   "metadata": {},
   "outputs": [
    {
     "data": {
      "text/plain": [
       "['Ordinary',\n",
       " 'Die With A Smile',\n",
       " 'Birds Of A Feather',\n",
       " 'Beautiful Things',\n",
       " 'Shake It To The Max (Fly)',\n",
       " 'Love Me Not',\n",
       " 'What I Want',\n",
       " 'Espresso',\n",
       " 'Triple Lavada',\n",
       " 'Undressed',\n",
       " 'Pink Pony Club',\n",
       " 'Wildflower',\n",
       " 'That’s So True',\n",
       " 'Mystical Magical',\n",
       " 'Just In Case',\n",
       " 'No Tiene Sentido',\n",
       " 'Azizam',\n",
       " 'Nokia',\n",
       " 'Marlboro Rojo',\n",
       " 'No One Noticed',\n",
       " 'Gnarly',\n",
       " 'Anxiety',\n",
       " 'Sailor Song',\n",
       " 'Si Antes Te Hubiera Conocido',\n",
       " 'All The Stars',\n",
       " 'Party 4 U',\n",
       " 'Creep',\n",
       " 'Dreams',\n",
       " 'Blue Strips',\n",
       " 'Taste',\n",
       " 'Fame Is A Gun',\n",
       " 'Mutt',\n",
       " 'EOO',\n",
       " 'Yellow',\n",
       " 'Perfect',\n",
       " 'Gata Only',\n",
       " 'Please Please Please',\n",
       " 'I Got Better',\n",
       " 'Sweater Weather',\n",
       " 'Viva La Vida',\n",
       " 'Nuevayol',\n",
       " 'Snooze',\n",
       " 'Cruel Summer',\n",
       " 'Capaz',\n",
       " 'Luna Bala',\n",
       " 'Who',\n",
       " 'As It Was',\n",
       " 'Me Jalo',\n",
       " 'Blinding Lights',\n",
       " 'Take On Me',\n",
       " 'Move',\n",
       " 'Te Queria Ver',\n",
       " \"Sorry I'm Here For Someone Else\",\n",
       " 'Chihiro',\n",
       " 'See You Again',\n",
       " 'Blue',\n",
       " 'Voy A Llevarte Pa PR',\n",
       " 'I Adore You',\n",
       " 'Numb',\n",
       " 'Montagem Tomada',\n",
       " 'Por Esos Ojos',\n",
       " 'Love Somebody',\n",
       " 'Flowers',\n",
       " 'Seven',\n",
       " 'Poker Face',\n",
       " 'Believer',\n",
       " 'Mr. Brightside',\n",
       " 'Something Just Like This',\n",
       " \"We Can't Be Friends (Wait For Your Love)\",\n",
       " 'Superman',\n",
       " 'Blessings',\n",
       " 'We Are The People',\n",
       " 'Sparks',\n",
       " 'Ansiedad',\n",
       " 'Vita Fer',\n",
       " 'Just The Way You Are',\n",
       " 'Loco',\n",
       " 'Busy Woman',\n",
       " 'A Sky Full Of Stars',\n",
       " 'Take Me To Church',\n",
       " 'Somewhere Only We Know',\n",
       " 'Nope Your Too Late I Already Died',\n",
       " 'Amigos? No.',\n",
       " 'Wheels On The Bus',\n",
       " 'Danza Kuduro',\n",
       " \"Can't Hold Us\",\n",
       " 'Breakfast',\n",
       " 'Money Trees',\n",
       " 'Nice To Meet You',\n",
       " 'Without Me',\n",
       " 'The Emptiness Machine',\n",
       " 'Enter Sandman',\n",
       " 'Burning Blue',\n",
       " \"Gangsta's Paradise\",\n",
       " 'Lovely',\n",
       " 'Until I Found You',\n",
       " 'Worst Way',\n",
       " 'The Chain',\n",
       " 'Cliche',\n",
       " 'I Remember Everything']"
      ]
     },
     "execution_count": 29,
     "metadata": {},
     "output_type": "execute_result"
    }
   ],
   "source": [
    "tp_song"
   ]
  },
  {
   "cell_type": "code",
   "execution_count": 30,
   "id": "0013ec2b",
   "metadata": {},
   "outputs": [
    {
     "name": "stdout",
     "output_type": "stream",
     "text": [
      "100\n",
      "100\n"
     ]
    }
   ],
   "source": [
    "print(len(tp_song))\n",
    "print(len(artits))\n"
   ]
  },
  {
   "cell_type": "code",
   "execution_count": 31,
   "id": "31618834",
   "metadata": {},
   "outputs": [
    {
     "data": {
      "text/html": [
       "<div>\n",
       "<style scoped>\n",
       "    .dataframe tbody tr th:only-of-type {\n",
       "        vertical-align: middle;\n",
       "    }\n",
       "\n",
       "    .dataframe tbody tr th {\n",
       "        vertical-align: top;\n",
       "    }\n",
       "\n",
       "    .dataframe thead th {\n",
       "        text-align: right;\n",
       "    }\n",
       "</style>\n",
       "<table border=\"1\" class=\"dataframe\">\n",
       "  <thead>\n",
       "    <tr style=\"text-align: right;\">\n",
       "      <th></th>\n",
       "      <th>Songs</th>\n",
       "      <th>Artist</th>\n",
       "    </tr>\n",
       "  </thead>\n",
       "  <tbody>\n",
       "    <tr>\n",
       "      <th>0</th>\n",
       "      <td>Ordinary</td>\n",
       "      <td>Alex Warren</td>\n",
       "    </tr>\n",
       "    <tr>\n",
       "      <th>1</th>\n",
       "      <td>Die With A Smile</td>\n",
       "      <td>Lady Gaga &amp; Bruno Mars</td>\n",
       "    </tr>\n",
       "    <tr>\n",
       "      <th>2</th>\n",
       "      <td>Birds Of A Feather</td>\n",
       "      <td>Billie Eilish</td>\n",
       "    </tr>\n",
       "    <tr>\n",
       "      <th>3</th>\n",
       "      <td>Beautiful Things</td>\n",
       "      <td>Benson Boone</td>\n",
       "    </tr>\n",
       "    <tr>\n",
       "      <th>4</th>\n",
       "      <td>Shake It To The Max (Fly)</td>\n",
       "      <td>MOLIY, Silent Addy, Skillibeng &amp; Shenseea</td>\n",
       "    </tr>\n",
       "    <tr>\n",
       "      <th>...</th>\n",
       "      <td>...</td>\n",
       "      <td>...</td>\n",
       "    </tr>\n",
       "    <tr>\n",
       "      <th>95</th>\n",
       "      <td>Until I Found You</td>\n",
       "      <td>Stephen Sanchez</td>\n",
       "    </tr>\n",
       "    <tr>\n",
       "      <th>96</th>\n",
       "      <td>Worst Way</td>\n",
       "      <td>Riley Green</td>\n",
       "    </tr>\n",
       "    <tr>\n",
       "      <th>97</th>\n",
       "      <td>The Chain</td>\n",
       "      <td>Fleetwood Mac</td>\n",
       "    </tr>\n",
       "    <tr>\n",
       "      <th>98</th>\n",
       "      <td>Cliche</td>\n",
       "      <td>mgk</td>\n",
       "    </tr>\n",
       "    <tr>\n",
       "      <th>99</th>\n",
       "      <td>I Remember Everything</td>\n",
       "      <td>Zach Bryan Featuring Kacey Musgraves</td>\n",
       "    </tr>\n",
       "  </tbody>\n",
       "</table>\n",
       "<p>100 rows × 2 columns</p>\n",
       "</div>"
      ],
      "text/plain": [
       "                        Songs                                     Artist\n",
       "0                    Ordinary                                Alex Warren\n",
       "1            Die With A Smile                     Lady Gaga & Bruno Mars\n",
       "2          Birds Of A Feather                              Billie Eilish\n",
       "3            Beautiful Things                               Benson Boone\n",
       "4   Shake It To The Max (Fly)  MOLIY, Silent Addy, Skillibeng & Shenseea\n",
       "..                        ...                                        ...\n",
       "95          Until I Found You                            Stephen Sanchez\n",
       "96                  Worst Way                                Riley Green\n",
       "97                  The Chain                              Fleetwood Mac\n",
       "98                     Cliche                                        mgk\n",
       "99      I Remember Everything       Zach Bryan Featuring Kacey Musgraves\n",
       "\n",
       "[100 rows x 2 columns]"
      ]
     },
     "execution_count": 31,
     "metadata": {},
     "output_type": "execute_result"
    }
   ],
   "source": [
    "song_dict={'Songs':tp_song,'Artist': artits}\n",
    "song_df=pd.DataFrame(song_dict)\n",
    "song_df"
   ]
  },
  {
   "cell_type": "code",
   "execution_count": null,
   "id": "8d4f4d75",
   "metadata": {},
   "outputs": [],
   "source": []
  },
  {
   "cell_type": "code",
   "execution_count": 32,
   "id": "53baf68e",
   "metadata": {},
   "outputs": [],
   "source": [
    "import spotipy\n",
    "import pandas as pd\n",
    "import json\n",
    "from spotipy.oauth2 import SpotifyClientCredentials\n",
    "import  config"
   ]
  },
  {
   "cell_type": "code",
   "execution_count": 33,
   "id": "09656e9c",
   "metadata": {},
   "outputs": [],
   "source": [
    "#Initialize SpotiPy with user credentials\n",
    "sp = spotipy.Spotify(auth_manager=SpotifyClientCredentials(client_id= config.CLIENT_ID,\n",
    "                                                           client_secret= config.CLIENT_SECRET))"
   ]
  },
  {
   "cell_type": "code",
   "execution_count": 34,
   "id": "ea933f39",
   "metadata": {},
   "outputs": [],
   "source": [
    "def get_track_id(songs, artist):\n",
    "    query = f\"{songs}{artist}\"\n",
    "    result = sp.search(q=query, type='track', limit=1)\n",
    "    tracks = result.get('tracks', {}).get('items', [])\n",
    "    if tracks:\n",
    "        return tracks[0]['id']\n",
    "    return  None\n",
    "                         "
   ]
  },
  {
   "cell_type": "code",
   "execution_count": 35,
   "id": "50205047",
   "metadata": {},
   "outputs": [],
   "source": [
    "\n",
    "song_df['track_id'] = song_df.apply(lambda row: get_track_id(row['Songs'], row['Artist']), axis=1)\n"
   ]
  },
  {
   "cell_type": "code",
   "execution_count": 36,
   "id": "3840dc04",
   "metadata": {},
   "outputs": [
    {
     "data": {
      "text/html": [
       "<div>\n",
       "<style scoped>\n",
       "    .dataframe tbody tr th:only-of-type {\n",
       "        vertical-align: middle;\n",
       "    }\n",
       "\n",
       "    .dataframe tbody tr th {\n",
       "        vertical-align: top;\n",
       "    }\n",
       "\n",
       "    .dataframe thead th {\n",
       "        text-align: right;\n",
       "    }\n",
       "</style>\n",
       "<table border=\"1\" class=\"dataframe\">\n",
       "  <thead>\n",
       "    <tr style=\"text-align: right;\">\n",
       "      <th></th>\n",
       "      <th>Songs</th>\n",
       "      <th>Artist</th>\n",
       "      <th>track_id</th>\n",
       "    </tr>\n",
       "  </thead>\n",
       "  <tbody>\n",
       "    <tr>\n",
       "      <th>0</th>\n",
       "      <td>Ordinary</td>\n",
       "      <td>Alex Warren</td>\n",
       "      <td>6qqrTXSdwiJaq8SO0X2lSe</td>\n",
       "    </tr>\n",
       "    <tr>\n",
       "      <th>1</th>\n",
       "      <td>Die With A Smile</td>\n",
       "      <td>Lady Gaga &amp; Bruno Mars</td>\n",
       "      <td>2QmXQ2s0B0CLRQcMLEHif9</td>\n",
       "    </tr>\n",
       "    <tr>\n",
       "      <th>2</th>\n",
       "      <td>Birds Of A Feather</td>\n",
       "      <td>Billie Eilish</td>\n",
       "      <td>6dOtVTDdiauQNBQEDOtlAB</td>\n",
       "    </tr>\n",
       "    <tr>\n",
       "      <th>3</th>\n",
       "      <td>Beautiful Things</td>\n",
       "      <td>Benson Boone</td>\n",
       "      <td>4CDXYCzPMXTAi6nuyixVnM</td>\n",
       "    </tr>\n",
       "    <tr>\n",
       "      <th>4</th>\n",
       "      <td>Shake It To The Max (Fly)</td>\n",
       "      <td>MOLIY, Silent Addy, Skillibeng &amp; Shenseea</td>\n",
       "      <td>0QCIpQV3twfqo9kh0t8Zza</td>\n",
       "    </tr>\n",
       "    <tr>\n",
       "      <th>...</th>\n",
       "      <td>...</td>\n",
       "      <td>...</td>\n",
       "      <td>...</td>\n",
       "    </tr>\n",
       "    <tr>\n",
       "      <th>95</th>\n",
       "      <td>Until I Found You</td>\n",
       "      <td>Stephen Sanchez</td>\n",
       "      <td>2RkZ5LkEzeHGRsmDqKwmaJ</td>\n",
       "    </tr>\n",
       "    <tr>\n",
       "      <th>96</th>\n",
       "      <td>Worst Way</td>\n",
       "      <td>Riley Green</td>\n",
       "      <td>7GX5flRQZVHRAGd6B4TmDO</td>\n",
       "    </tr>\n",
       "    <tr>\n",
       "      <th>97</th>\n",
       "      <td>The Chain</td>\n",
       "      <td>Fleetwood Mac</td>\n",
       "      <td>1IMa0Il4w988MwZCUcISix</td>\n",
       "    </tr>\n",
       "    <tr>\n",
       "      <th>98</th>\n",
       "      <td>Cliche</td>\n",
       "      <td>mgk</td>\n",
       "      <td>3aD33slymVwdEcdbKUBnDu</td>\n",
       "    </tr>\n",
       "    <tr>\n",
       "      <th>99</th>\n",
       "      <td>I Remember Everything</td>\n",
       "      <td>Zach Bryan Featuring Kacey Musgraves</td>\n",
       "      <td>4tkiLZ2Q7SuaeSiSi56rnJ</td>\n",
       "    </tr>\n",
       "  </tbody>\n",
       "</table>\n",
       "<p>100 rows × 3 columns</p>\n",
       "</div>"
      ],
      "text/plain": [
       "                        Songs                                     Artist  \\\n",
       "0                    Ordinary                                Alex Warren   \n",
       "1            Die With A Smile                     Lady Gaga & Bruno Mars   \n",
       "2          Birds Of A Feather                              Billie Eilish   \n",
       "3            Beautiful Things                               Benson Boone   \n",
       "4   Shake It To The Max (Fly)  MOLIY, Silent Addy, Skillibeng & Shenseea   \n",
       "..                        ...                                        ...   \n",
       "95          Until I Found You                            Stephen Sanchez   \n",
       "96                  Worst Way                                Riley Green   \n",
       "97                  The Chain                              Fleetwood Mac   \n",
       "98                     Cliche                                        mgk   \n",
       "99      I Remember Everything       Zach Bryan Featuring Kacey Musgraves   \n",
       "\n",
       "                  track_id  \n",
       "0   6qqrTXSdwiJaq8SO0X2lSe  \n",
       "1   2QmXQ2s0B0CLRQcMLEHif9  \n",
       "2   6dOtVTDdiauQNBQEDOtlAB  \n",
       "3   4CDXYCzPMXTAi6nuyixVnM  \n",
       "4   0QCIpQV3twfqo9kh0t8Zza  \n",
       "..                     ...  \n",
       "95  2RkZ5LkEzeHGRsmDqKwmaJ  \n",
       "96  7GX5flRQZVHRAGd6B4TmDO  \n",
       "97  1IMa0Il4w988MwZCUcISix  \n",
       "98  3aD33slymVwdEcdbKUBnDu  \n",
       "99  4tkiLZ2Q7SuaeSiSi56rnJ  \n",
       "\n",
       "[100 rows x 3 columns]"
      ]
     },
     "execution_count": 36,
     "metadata": {},
     "output_type": "execute_result"
    }
   ],
   "source": [
    "song_df"
   ]
  },
  {
   "cell_type": "code",
   "execution_count": 37,
   "id": "18327956",
   "metadata": {},
   "outputs": [],
   "source": [
    "track_id=[]\n",
    "track_id=song_df['track_id']"
   ]
  },
  {
   "cell_type": "code",
   "execution_count": 38,
   "id": "ae7b419b",
   "metadata": {},
   "outputs": [
    {
     "data": {
      "text/plain": [
       "0     6qqrTXSdwiJaq8SO0X2lSe\n",
       "1     2QmXQ2s0B0CLRQcMLEHif9\n",
       "2     6dOtVTDdiauQNBQEDOtlAB\n",
       "3     4CDXYCzPMXTAi6nuyixVnM\n",
       "4     0QCIpQV3twfqo9kh0t8Zza\n",
       "               ...          \n",
       "95    2RkZ5LkEzeHGRsmDqKwmaJ\n",
       "96    7GX5flRQZVHRAGd6B4TmDO\n",
       "97    1IMa0Il4w988MwZCUcISix\n",
       "98    3aD33slymVwdEcdbKUBnDu\n",
       "99    4tkiLZ2Q7SuaeSiSi56rnJ\n",
       "Name: track_id, Length: 100, dtype: object"
      ]
     },
     "execution_count": 38,
     "metadata": {},
     "output_type": "execute_result"
    }
   ],
   "source": [
    "track_id"
   ]
  },
  {
   "cell_type": "code",
   "execution_count": null,
   "id": "8ead1505",
   "metadata": {},
   "outputs": [
    {
     "name": "stderr",
     "output_type": "stream",
     "text": [
      "HTTP Error for GET to https://api.spotify.com/v1/audio-features/?ids=6qqrTXSdwiJaq8SO0X2lSe with Params: {} returned 403 due to None\n"
     ]
    },
    {
     "name": "stdout",
     "output_type": "stream",
     "text": [
      "Error fetching data for track ID 6qqrTXSdwiJaq8SO0X2lSe: http status: 403, code: -1 - https://api.spotify.com/v1/audio-features/?ids=6qqrTXSdwiJaq8SO0X2lSe:\n",
      " None, reason: None\n"
     ]
    },
    {
     "name": "stderr",
     "output_type": "stream",
     "text": [
      "HTTP Error for GET to https://api.spotify.com/v1/audio-features/?ids=2QmXQ2s0B0CLRQcMLEHif9 with Params: {} returned 403 due to None\n"
     ]
    },
    {
     "name": "stdout",
     "output_type": "stream",
     "text": [
      "Error fetching data for track ID 2QmXQ2s0B0CLRQcMLEHif9: http status: 403, code: -1 - https://api.spotify.com/v1/audio-features/?ids=2QmXQ2s0B0CLRQcMLEHif9:\n",
      " None, reason: None\n"
     ]
    },
    {
     "name": "stderr",
     "output_type": "stream",
     "text": [
      "HTTP Error for GET to https://api.spotify.com/v1/audio-features/?ids=6dOtVTDdiauQNBQEDOtlAB with Params: {} returned 403 due to None\n"
     ]
    },
    {
     "name": "stdout",
     "output_type": "stream",
     "text": [
      "Error fetching data for track ID 6dOtVTDdiauQNBQEDOtlAB: http status: 403, code: -1 - https://api.spotify.com/v1/audio-features/?ids=6dOtVTDdiauQNBQEDOtlAB:\n",
      " None, reason: None\n"
     ]
    },
    {
     "name": "stderr",
     "output_type": "stream",
     "text": [
      "HTTP Error for GET to https://api.spotify.com/v1/audio-features/?ids=4CDXYCzPMXTAi6nuyixVnM with Params: {} returned 403 due to None\n"
     ]
    },
    {
     "name": "stdout",
     "output_type": "stream",
     "text": [
      "Error fetching data for track ID 4CDXYCzPMXTAi6nuyixVnM: http status: 403, code: -1 - https://api.spotify.com/v1/audio-features/?ids=4CDXYCzPMXTAi6nuyixVnM:\n",
      " None, reason: None\n"
     ]
    },
    {
     "name": "stderr",
     "output_type": "stream",
     "text": [
      "HTTP Error for GET to https://api.spotify.com/v1/audio-features/?ids=0QCIpQV3twfqo9kh0t8Zza with Params: {} returned 403 due to None\n"
     ]
    },
    {
     "name": "stdout",
     "output_type": "stream",
     "text": [
      "Error fetching data for track ID 0QCIpQV3twfqo9kh0t8Zza: http status: 403, code: -1 - https://api.spotify.com/v1/audio-features/?ids=0QCIpQV3twfqo9kh0t8Zza:\n",
      " None, reason: None\n"
     ]
    },
    {
     "name": "stderr",
     "output_type": "stream",
     "text": [
      "HTTP Error for GET to https://api.spotify.com/v1/audio-features/?ids=5ITV0zqzjOYfFWpW0xBmRa with Params: {} returned 403 due to None\n"
     ]
    },
    {
     "name": "stdout",
     "output_type": "stream",
     "text": [
      "Error fetching data for track ID 5ITV0zqzjOYfFWpW0xBmRa: http status: 403, code: -1 - https://api.spotify.com/v1/audio-features/?ids=5ITV0zqzjOYfFWpW0xBmRa:\n",
      " None, reason: None\n"
     ]
    },
    {
     "name": "stderr",
     "output_type": "stream",
     "text": [
      "HTTP Error for GET to https://api.spotify.com/v1/audio-features/?ids=1YHQQFtKqFSFrqL4cNvstU with Params: {} returned 403 due to None\n"
     ]
    },
    {
     "name": "stdout",
     "output_type": "stream",
     "text": [
      "Error fetching data for track ID 1YHQQFtKqFSFrqL4cNvstU: http status: 403, code: -1 - https://api.spotify.com/v1/audio-features/?ids=1YHQQFtKqFSFrqL4cNvstU:\n",
      " None, reason: None\n"
     ]
    },
    {
     "name": "stderr",
     "output_type": "stream",
     "text": [
      "HTTP Error for GET to https://api.spotify.com/v1/audio-features/?ids=2qSkIjg1o9h3YT9RAgYN75 with Params: {} returned 403 due to None\n"
     ]
    },
    {
     "name": "stdout",
     "output_type": "stream",
     "text": [
      "Error fetching data for track ID 2qSkIjg1o9h3YT9RAgYN75: http status: 403, code: -1 - https://api.spotify.com/v1/audio-features/?ids=2qSkIjg1o9h3YT9RAgYN75:\n",
      " None, reason: None\n"
     ]
    },
    {
     "name": "stderr",
     "output_type": "stream",
     "text": [
      "HTTP Error for GET to https://api.spotify.com/v1/audio-features/?ids=7DkOpEOBOwHg6VBj4blikS with Params: {} returned 403 due to None\n"
     ]
    },
    {
     "name": "stdout",
     "output_type": "stream",
     "text": [
      "Error fetching data for track ID 7DkOpEOBOwHg6VBj4blikS: http status: 403, code: -1 - https://api.spotify.com/v1/audio-features/?ids=7DkOpEOBOwHg6VBj4blikS:\n",
      " None, reason: None\n"
     ]
    },
    {
     "name": "stderr",
     "output_type": "stream",
     "text": [
      "HTTP Error for GET to https://api.spotify.com/v1/audio-features/?ids=4AajxCEwGEsmHmT4H1TwjY with Params: {} returned 403 due to None\n"
     ]
    },
    {
     "name": "stdout",
     "output_type": "stream",
     "text": [
      "Error fetching data for track ID 4AajxCEwGEsmHmT4H1TwjY: http status: 403, code: -1 - https://api.spotify.com/v1/audio-features/?ids=4AajxCEwGEsmHmT4H1TwjY:\n",
      " None, reason: None\n"
     ]
    },
    {
     "name": "stderr",
     "output_type": "stream",
     "text": [
      "HTTP Error for GET to https://api.spotify.com/v1/audio-features/?ids=1k2pQc5i348DCHwbn5KTdc with Params: {} returned 403 due to None\n"
     ]
    },
    {
     "name": "stdout",
     "output_type": "stream",
     "text": [
      "Error fetching data for track ID 1k2pQc5i348DCHwbn5KTdc: http status: 403, code: -1 - https://api.spotify.com/v1/audio-features/?ids=1k2pQc5i348DCHwbn5KTdc:\n",
      " None, reason: None\n"
     ]
    },
    {
     "name": "stderr",
     "output_type": "stream",
     "text": [
      "HTTP Error for GET to https://api.spotify.com/v1/audio-features/?ids=3QaPy1KgI7nu9FJEQUgn6h with Params: {} returned 403 due to None\n"
     ]
    },
    {
     "name": "stdout",
     "output_type": "stream",
     "text": [
      "Error fetching data for track ID 3QaPy1KgI7nu9FJEQUgn6h: http status: 403, code: -1 - https://api.spotify.com/v1/audio-features/?ids=3QaPy1KgI7nu9FJEQUgn6h:\n",
      " None, reason: None\n"
     ]
    },
    {
     "name": "stderr",
     "output_type": "stream",
     "text": [
      "HTTP Error for GET to https://api.spotify.com/v1/audio-features/?ids=7ne4VBA60CxGM75vw0EYad with Params: {} returned 403 due to None\n"
     ]
    },
    {
     "name": "stdout",
     "output_type": "stream",
     "text": [
      "Error fetching data for track ID 7ne4VBA60CxGM75vw0EYad: http status: 403, code: -1 - https://api.spotify.com/v1/audio-features/?ids=7ne4VBA60CxGM75vw0EYad:\n",
      " None, reason: None\n"
     ]
    },
    {
     "name": "stderr",
     "output_type": "stream",
     "text": [
      "HTTP Error for GET to https://api.spotify.com/v1/audio-features/?ids=221eHga9f9Ne4f8D7WVgPT with Params: {} returned 403 due to None\n"
     ]
    },
    {
     "name": "stdout",
     "output_type": "stream",
     "text": [
      "Error fetching data for track ID 221eHga9f9Ne4f8D7WVgPT: http status: 403, code: -1 - https://api.spotify.com/v1/audio-features/?ids=221eHga9f9Ne4f8D7WVgPT:\n",
      " None, reason: None\n"
     ]
    },
    {
     "name": "stderr",
     "output_type": "stream",
     "text": [
      "HTTP Error for GET to https://api.spotify.com/v1/audio-features/?ids=5ITV0zqzjOYfFWpW0xBmRa with Params: {} returned 403 due to None\n"
     ]
    },
    {
     "name": "stdout",
     "output_type": "stream",
     "text": [
      "Error fetching data for track ID 5ITV0zqzjOYfFWpW0xBmRa: http status: 403, code: -1 - https://api.spotify.com/v1/audio-features/?ids=5ITV0zqzjOYfFWpW0xBmRa:\n",
      " None, reason: None\n"
     ]
    },
    {
     "name": "stderr",
     "output_type": "stream",
     "text": [
      "HTTP Error for GET to https://api.spotify.com/v1/audio-features/?ids=7iOadzb2kNGSR0vuZk1DD9 with Params: {} returned 403 due to None\n"
     ]
    },
    {
     "name": "stdout",
     "output_type": "stream",
     "text": [
      "Error fetching data for track ID 7iOadzb2kNGSR0vuZk1DD9: http status: 403, code: -1 - https://api.spotify.com/v1/audio-features/?ids=7iOadzb2kNGSR0vuZk1DD9:\n",
      " None, reason: None\n"
     ]
    },
    {
     "name": "stderr",
     "output_type": "stream",
     "text": [
      "HTTP Error for GET to https://api.spotify.com/v1/audio-features/?ids=0GRc3eGTg8HBdWLRGYgqIc with Params: {} returned 403 due to None\n"
     ]
    },
    {
     "name": "stdout",
     "output_type": "stream",
     "text": [
      "Error fetching data for track ID 0GRc3eGTg8HBdWLRGYgqIc: http status: 403, code: -1 - https://api.spotify.com/v1/audio-features/?ids=0GRc3eGTg8HBdWLRGYgqIc:\n",
      " None, reason: None\n"
     ]
    },
    {
     "name": "stderr",
     "output_type": "stream",
     "text": [
      "HTTP Error for GET to https://api.spotify.com/v1/audio-features/?ids=2u9S9JJ6hTZS3Vf22HOZKg with Params: {} returned 403 due to None\n"
     ]
    },
    {
     "name": "stdout",
     "output_type": "stream",
     "text": [
      "Error fetching data for track ID 2u9S9JJ6hTZS3Vf22HOZKg: http status: 403, code: -1 - https://api.spotify.com/v1/audio-features/?ids=2u9S9JJ6hTZS3Vf22HOZKg:\n",
      " None, reason: None\n"
     ]
    },
    {
     "name": "stderr",
     "output_type": "stream",
     "text": [
      "HTTP Error for GET to https://api.spotify.com/v1/audio-features/?ids=3hpm0fTeSqlhJbnqAgaLZs with Params: {} returned 403 due to None\n"
     ]
    },
    {
     "name": "stdout",
     "output_type": "stream",
     "text": [
      "Error fetching data for track ID 3hpm0fTeSqlhJbnqAgaLZs: http status: 403, code: -1 - https://api.spotify.com/v1/audio-features/?ids=3hpm0fTeSqlhJbnqAgaLZs:\n",
      " None, reason: None\n"
     ]
    },
    {
     "name": "stderr",
     "output_type": "stream",
     "text": [
      "HTTP Error for GET to https://api.spotify.com/v1/audio-features/?ids=5ITV0zqzjOYfFWpW0xBmRa with Params: {} returned 403 due to None\n"
     ]
    },
    {
     "name": "stdout",
     "output_type": "stream",
     "text": [
      "Error fetching data for track ID 5ITV0zqzjOYfFWpW0xBmRa: http status: 403, code: -1 - https://api.spotify.com/v1/audio-features/?ids=5ITV0zqzjOYfFWpW0xBmRa:\n",
      " None, reason: None\n"
     ]
    },
    {
     "name": "stderr",
     "output_type": "stream",
     "text": [
      "HTTP Error for GET to https://api.spotify.com/v1/audio-features/?ids=371c1NI1cEdJS6aEkeBixN with Params: {} returned 403 due to None\n"
     ]
    },
    {
     "name": "stdout",
     "output_type": "stream",
     "text": [
      "Error fetching data for track ID 371c1NI1cEdJS6aEkeBixN: http status: 403, code: -1 - https://api.spotify.com/v1/audio-features/?ids=371c1NI1cEdJS6aEkeBixN:\n",
      " None, reason: None\n"
     ]
    },
    {
     "name": "stderr",
     "output_type": "stream",
     "text": [
      "HTTP Error for GET to https://api.spotify.com/v1/audio-features/?ids=1musbempyJAw5gfSKZHXP9 with Params: {} returned 403 due to None\n"
     ]
    },
    {
     "name": "stdout",
     "output_type": "stream",
     "text": [
      "Error fetching data for track ID 1musbempyJAw5gfSKZHXP9: http status: 403, code: -1 - https://api.spotify.com/v1/audio-features/?ids=1musbempyJAw5gfSKZHXP9:\n",
      " None, reason: None\n"
     ]
    },
    {
     "name": "stderr",
     "output_type": "stream",
     "text": [
      "HTTP Error for GET to https://api.spotify.com/v1/audio-features/?ids=2262bWmqomIaJXwCRHr13j with Params: {} returned 403 due to None\n"
     ]
    },
    {
     "name": "stdout",
     "output_type": "stream",
     "text": [
      "Error fetching data for track ID 2262bWmqomIaJXwCRHr13j: http status: 403, code: -1 - https://api.spotify.com/v1/audio-features/?ids=2262bWmqomIaJXwCRHr13j:\n",
      " None, reason: None\n"
     ]
    },
    {
     "name": "stderr",
     "output_type": "stream",
     "text": [
      "HTTP Error for GET to https://api.spotify.com/v1/audio-features/?ids=2znZml84v8icNKGB7EBPli with Params: {} returned 403 due to None\n"
     ]
    },
    {
     "name": "stdout",
     "output_type": "stream",
     "text": [
      "Error fetching data for track ID 2znZml84v8icNKGB7EBPli: http status: 403, code: -1 - https://api.spotify.com/v1/audio-features/?ids=2znZml84v8icNKGB7EBPli:\n",
      " None, reason: None\n"
     ]
    },
    {
     "name": "stderr",
     "output_type": "stream",
     "text": [
      "HTTP Error for GET to https://api.spotify.com/v1/audio-features/?ids=5M8tlPkSRizD3vMMnzEm3N with Params: {} returned 403 due to None\n"
     ]
    },
    {
     "name": "stdout",
     "output_type": "stream",
     "text": [
      "Error fetching data for track ID 5M8tlPkSRizD3vMMnzEm3N: http status: 403, code: -1 - https://api.spotify.com/v1/audio-features/?ids=5M8tlPkSRizD3vMMnzEm3N:\n",
      " None, reason: None\n"
     ]
    },
    {
     "name": "stderr",
     "output_type": "stream",
     "text": [
      "HTTP Error for GET to https://api.spotify.com/v1/audio-features/?ids=2qjDNbgLzfBpCvDwfw11Qg with Params: {} returned 403 due to None\n"
     ]
    },
    {
     "name": "stdout",
     "output_type": "stream",
     "text": [
      "Error fetching data for track ID 2qjDNbgLzfBpCvDwfw11Qg: http status: 403, code: -1 - https://api.spotify.com/v1/audio-features/?ids=2qjDNbgLzfBpCvDwfw11Qg:\n",
      " None, reason: None\n"
     ]
    },
    {
     "name": "stderr",
     "output_type": "stream",
     "text": [
      "HTTP Error for GET to https://api.spotify.com/v1/audio-features/?ids=1liz75ioTdahB0uDOkCyo9 with Params: {} returned 403 due to None\n"
     ]
    },
    {
     "name": "stdout",
     "output_type": "stream",
     "text": [
      "Error fetching data for track ID 1liz75ioTdahB0uDOkCyo9: http status: 403, code: -1 - https://api.spotify.com/v1/audio-features/?ids=1liz75ioTdahB0uDOkCyo9:\n",
      " None, reason: None\n"
     ]
    },
    {
     "name": "stderr",
     "output_type": "stream",
     "text": [
      "HTTP Error for GET to https://api.spotify.com/v1/audio-features/?ids=1prZ0pr6XoRCxcrC3MCL0M with Params: {} returned 403 due to None\n"
     ]
    },
    {
     "name": "stdout",
     "output_type": "stream",
     "text": [
      "Error fetching data for track ID 1prZ0pr6XoRCxcrC3MCL0M: http status: 403, code: -1 - https://api.spotify.com/v1/audio-features/?ids=1prZ0pr6XoRCxcrC3MCL0M:\n",
      " None, reason: None\n"
     ]
    },
    {
     "name": "stderr",
     "output_type": "stream",
     "text": [
      "HTTP Error for GET to https://api.spotify.com/v1/audio-features/?ids=7kAFSrTIOiVZ0gnHBuAH3l with Params: {} returned 403 due to None\n"
     ]
    },
    {
     "name": "stdout",
     "output_type": "stream",
     "text": [
      "Error fetching data for track ID 7kAFSrTIOiVZ0gnHBuAH3l: http status: 403, code: -1 - https://api.spotify.com/v1/audio-features/?ids=7kAFSrTIOiVZ0gnHBuAH3l:\n",
      " None, reason: None\n"
     ]
    },
    {
     "name": "stderr",
     "output_type": "stream",
     "text": [
      "HTTP Error for GET to https://api.spotify.com/v1/audio-features/?ids=5G2f63n7IPVPPjfNIGih7Q with Params: {} returned 403 due to None\n"
     ]
    },
    {
     "name": "stdout",
     "output_type": "stream",
     "text": [
      "Error fetching data for track ID 5G2f63n7IPVPPjfNIGih7Q: http status: 403, code: -1 - https://api.spotify.com/v1/audio-features/?ids=5G2f63n7IPVPPjfNIGih7Q:\n",
      " None, reason: None\n"
     ]
    },
    {
     "name": "stderr",
     "output_type": "stream",
     "text": [
      "HTTP Error for GET to https://api.spotify.com/v1/audio-features/?ids=1RExBkVXsSZ3AKFC4c40Tp with Params: {} returned 403 due to None\n"
     ]
    },
    {
     "name": "stdout",
     "output_type": "stream",
     "text": [
      "Error fetching data for track ID 1RExBkVXsSZ3AKFC4c40Tp: http status: 403, code: -1 - https://api.spotify.com/v1/audio-features/?ids=1RExBkVXsSZ3AKFC4c40Tp:\n",
      " None, reason: None\n"
     ]
    },
    {
     "name": "stderr",
     "output_type": "stream",
     "text": [
      "HTTP Error for GET to https://api.spotify.com/v1/audio-features/?ids=2iksjpqL3eraxCBKqNHuqd with Params: {} returned 403 due to None\n"
     ]
    },
    {
     "name": "stdout",
     "output_type": "stream",
     "text": [
      "Error fetching data for track ID 2iksjpqL3eraxCBKqNHuqd: http status: 403, code: -1 - https://api.spotify.com/v1/audio-features/?ids=2iksjpqL3eraxCBKqNHuqd:\n",
      " None, reason: None\n"
     ]
    },
    {
     "name": "stderr",
     "output_type": "stream",
     "text": [
      "HTTP Error for GET to https://api.spotify.com/v1/audio-features/?ids=6J5kc12BW5HuP3d7C3vvx8 with Params: {} returned 403 due to None\n"
     ]
    },
    {
     "name": "stdout",
     "output_type": "stream",
     "text": [
      "Error fetching data for track ID 6J5kc12BW5HuP3d7C3vvx8: http status: 403, code: -1 - https://api.spotify.com/v1/audio-features/?ids=6J5kc12BW5HuP3d7C3vvx8:\n",
      " None, reason: None\n"
     ]
    },
    {
     "name": "stderr",
     "output_type": "stream",
     "text": [
      "HTTP Error for GET to https://api.spotify.com/v1/audio-features/?ids=2QG03lDmMcA5rwSSbFTzR5 with Params: {} returned 403 due to None\n"
     ]
    },
    {
     "name": "stdout",
     "output_type": "stream",
     "text": [
      "Error fetching data for track ID 2QG03lDmMcA5rwSSbFTzR5: http status: 403, code: -1 - https://api.spotify.com/v1/audio-features/?ids=2QG03lDmMcA5rwSSbFTzR5:\n",
      " None, reason: None\n"
     ]
    },
    {
     "name": "stderr",
     "output_type": "stream",
     "text": [
      "HTTP Error for GET to https://api.spotify.com/v1/audio-features/?ids=7egdydsliuzDFWORdBiKMr with Params: {} returned 403 due to None\n"
     ]
    },
    {
     "name": "stdout",
     "output_type": "stream",
     "text": [
      "Error fetching data for track ID 7egdydsliuzDFWORdBiKMr: http status: 403, code: -1 - https://api.spotify.com/v1/audio-features/?ids=7egdydsliuzDFWORdBiKMr:\n",
      " None, reason: None\n"
     ]
    },
    {
     "name": "stderr",
     "output_type": "stream",
     "text": [
      "HTTP Error for GET to https://api.spotify.com/v1/audio-features/?ids=6XjDF6nds4DE2BBbagZol6 with Params: {} returned 403 due to None\n"
     ]
    },
    {
     "name": "stdout",
     "output_type": "stream",
     "text": [
      "Error fetching data for track ID 6XjDF6nds4DE2BBbagZol6: http status: 403, code: -1 - https://api.spotify.com/v1/audio-features/?ids=6XjDF6nds4DE2BBbagZol6:\n",
      " None, reason: None\n"
     ]
    },
    {
     "name": "stderr",
     "output_type": "stream",
     "text": [
      "HTTP Error for GET to https://api.spotify.com/v1/audio-features/?ids=3xVQWlZlCbqSRmr9Je2eGt with Params: {} returned 403 due to None\n"
     ]
    },
    {
     "name": "stdout",
     "output_type": "stream",
     "text": [
      "Error fetching data for track ID 3xVQWlZlCbqSRmr9Je2eGt: http status: 403, code: -1 - https://api.spotify.com/v1/audio-features/?ids=3xVQWlZlCbqSRmr9Je2eGt:\n",
      " None, reason: None\n"
     ]
    },
    {
     "name": "stderr",
     "output_type": "stream",
     "text": [
      "HTTP Error for GET to https://api.spotify.com/v1/audio-features/?ids=5ITV0zqzjOYfFWpW0xBmRa with Params: {} returned 403 due to None\n"
     ]
    },
    {
     "name": "stdout",
     "output_type": "stream",
     "text": [
      "Error fetching data for track ID 5ITV0zqzjOYfFWpW0xBmRa: http status: 403, code: -1 - https://api.spotify.com/v1/audio-features/?ids=5ITV0zqzjOYfFWpW0xBmRa:\n",
      " None, reason: None\n"
     ]
    },
    {
     "name": "stderr",
     "output_type": "stream",
     "text": [
      "HTTP Error for GET to https://api.spotify.com/v1/audio-features/?ids=4ezafcOuI5em8LoE2xxnpv with Params: {} returned 403 due to None\n"
     ]
    },
    {
     "name": "stdout",
     "output_type": "stream",
     "text": [
      "Error fetching data for track ID 4ezafcOuI5em8LoE2xxnpv: http status: 403, code: -1 - https://api.spotify.com/v1/audio-features/?ids=4ezafcOuI5em8LoE2xxnpv:\n",
      " None, reason: None\n"
     ]
    },
    {
     "name": "stderr",
     "output_type": "stream",
     "text": [
      "HTTP Error for GET to https://api.spotify.com/v1/audio-features/?ids=59D4DOkspUbWyMmbAPQkxZ with Params: {} returned 403 due to None\n"
     ]
    },
    {
     "name": "stdout",
     "output_type": "stream",
     "text": [
      "Error fetching data for track ID 59D4DOkspUbWyMmbAPQkxZ: http status: 403, code: -1 - https://api.spotify.com/v1/audio-features/?ids=59D4DOkspUbWyMmbAPQkxZ:\n",
      " None, reason: None\n"
     ]
    },
    {
     "name": "stderr",
     "output_type": "stream",
     "text": [
      "HTTP Error for GET to https://api.spotify.com/v1/audio-features/?ids=5TFD2bmFKGhoCRbX61nXY5 with Params: {} returned 403 due to None\n"
     ]
    },
    {
     "name": "stdout",
     "output_type": "stream",
     "text": [
      "Error fetching data for track ID 5TFD2bmFKGhoCRbX61nXY5: http status: 403, code: -1 - https://api.spotify.com/v1/audio-features/?ids=5TFD2bmFKGhoCRbX61nXY5:\n",
      " None, reason: None\n"
     ]
    },
    {
     "name": "stderr",
     "output_type": "stream",
     "text": [
      "HTTP Error for GET to https://api.spotify.com/v1/audio-features/?ids=5YABYtKx9qa56vBjlXDbmw with Params: {} returned 403 due to None\n"
     ]
    },
    {
     "name": "stdout",
     "output_type": "stream",
     "text": [
      "Error fetching data for track ID 5YABYtKx9qa56vBjlXDbmw: http status: 403, code: -1 - https://api.spotify.com/v1/audio-features/?ids=5YABYtKx9qa56vBjlXDbmw:\n",
      " None, reason: None\n"
     ]
    },
    {
     "name": "stderr",
     "output_type": "stream",
     "text": [
      "HTTP Error for GET to https://api.spotify.com/v1/audio-features/?ids=0cnSfy9wFUW19ciLFP0j18 with Params: {} returned 403 due to None\n"
     ]
    },
    {
     "name": "stdout",
     "output_type": "stream",
     "text": [
      "Error fetching data for track ID 0cnSfy9wFUW19ciLFP0j18: http status: 403, code: -1 - https://api.spotify.com/v1/audio-features/?ids=0cnSfy9wFUW19ciLFP0j18:\n",
      " None, reason: None\n"
     ]
    },
    {
     "name": "stderr",
     "output_type": "stream",
     "text": [
      "HTTP Error for GET to https://api.spotify.com/v1/audio-features/?ids=6DmQ5PdNr7lxOkjWAxQiyI with Params: {} returned 403 due to None\n"
     ]
    },
    {
     "name": "stdout",
     "output_type": "stream",
     "text": [
      "Error fetching data for track ID 6DmQ5PdNr7lxOkjWAxQiyI: http status: 403, code: -1 - https://api.spotify.com/v1/audio-features/?ids=6DmQ5PdNr7lxOkjWAxQiyI:\n",
      " None, reason: None\n"
     ]
    },
    {
     "name": "stderr",
     "output_type": "stream",
     "text": [
      "HTTP Error for GET to https://api.spotify.com/v1/audio-features/?ids=6aeNEAC0JxWmqPK2gCeVFH with Params: {} returned 403 due to None\n"
     ]
    },
    {
     "name": "stdout",
     "output_type": "stream",
     "text": [
      "Error fetching data for track ID 6aeNEAC0JxWmqPK2gCeVFH: http status: 403, code: -1 - https://api.spotify.com/v1/audio-features/?ids=6aeNEAC0JxWmqPK2gCeVFH:\n",
      " None, reason: None\n"
     ]
    },
    {
     "name": "stderr",
     "output_type": "stream",
     "text": [
      "HTTP Error for GET to https://api.spotify.com/v1/audio-features/?ids=1yqdD2ScjkqvaNBUzPQ4vR with Params: {} returned 403 due to None\n"
     ]
    },
    {
     "name": "stdout",
     "output_type": "stream",
     "text": [
      "Error fetching data for track ID 1yqdD2ScjkqvaNBUzPQ4vR: http status: 403, code: -1 - https://api.spotify.com/v1/audio-features/?ids=1yqdD2ScjkqvaNBUzPQ4vR:\n",
      " None, reason: None\n"
     ]
    },
    {
     "name": "stderr",
     "output_type": "stream",
     "text": [
      "HTTP Error for GET to https://api.spotify.com/v1/audio-features/?ids=7ccC26pJ3aDG81sS4FwdXF with Params: {} returned 403 due to None\n"
     ]
    },
    {
     "name": "stdout",
     "output_type": "stream",
     "text": [
      "Error fetching data for track ID 7ccC26pJ3aDG81sS4FwdXF: http status: 403, code: -1 - https://api.spotify.com/v1/audio-features/?ids=7ccC26pJ3aDG81sS4FwdXF:\n",
      " None, reason: None\n"
     ]
    },
    {
     "name": "stderr",
     "output_type": "stream",
     "text": [
      "HTTP Error for GET to https://api.spotify.com/v1/audio-features/?ids=3D24ErT1MMmUfXWotSj2A2 with Params: {} returned 403 due to None\n"
     ]
    },
    {
     "name": "stdout",
     "output_type": "stream",
     "text": [
      "Error fetching data for track ID 3D24ErT1MMmUfXWotSj2A2: http status: 403, code: -1 - https://api.spotify.com/v1/audio-features/?ids=3D24ErT1MMmUfXWotSj2A2:\n",
      " None, reason: None\n"
     ]
    },
    {
     "name": "stderr",
     "output_type": "stream",
     "text": [
      "HTTP Error for GET to https://api.spotify.com/v1/audio-features/?ids=4sFBE5VDo5Dz41Uha1gf4D with Params: {} returned 403 due to None\n"
     ]
    },
    {
     "name": "stdout",
     "output_type": "stream",
     "text": [
      "Error fetching data for track ID 4sFBE5VDo5Dz41Uha1gf4D: http status: 403, code: -1 - https://api.spotify.com/v1/audio-features/?ids=4sFBE5VDo5Dz41Uha1gf4D:\n",
      " None, reason: None\n"
     ]
    },
    {
     "name": "stderr",
     "output_type": "stream",
     "text": [
      "HTTP Error for GET to https://api.spotify.com/v1/audio-features/?ids=4ua8nCS413P1wIjaNREUHx with Params: {} returned 403 due to None\n"
     ]
    },
    {
     "name": "stdout",
     "output_type": "stream",
     "text": [
      "Error fetching data for track ID 4ua8nCS413P1wIjaNREUHx: http status: 403, code: -1 - https://api.spotify.com/v1/audio-features/?ids=4ua8nCS413P1wIjaNREUHx:\n",
      " None, reason: None\n"
     ]
    },
    {
     "name": "stderr",
     "output_type": "stream",
     "text": [
      "HTTP Error for GET to https://api.spotify.com/v1/audio-features/?ids=1BJJbSX6muJVF2AK7uH1x4 with Params: {} returned 403 due to None\n"
     ]
    },
    {
     "name": "stdout",
     "output_type": "stream",
     "text": [
      "Error fetching data for track ID 1BJJbSX6muJVF2AK7uH1x4: http status: 403, code: -1 - https://api.spotify.com/v1/audio-features/?ids=1BJJbSX6muJVF2AK7uH1x4:\n",
      " None, reason: None\n"
     ]
    },
    {
     "name": "stderr",
     "output_type": "stream",
     "text": [
      "HTTP Error for GET to https://api.spotify.com/v1/audio-features/?ids=6YBT1p3qH6O2UcjNSOveLG with Params: {} returned 403 due to None\n"
     ]
    },
    {
     "name": "stdout",
     "output_type": "stream",
     "text": [
      "Error fetching data for track ID 6YBT1p3qH6O2UcjNSOveLG: http status: 403, code: -1 - https://api.spotify.com/v1/audio-features/?ids=6YBT1p3qH6O2UcjNSOveLG:\n",
      " None, reason: None\n"
     ]
    },
    {
     "name": "stderr",
     "output_type": "stream",
     "text": [
      "HTTP Error for GET to https://api.spotify.com/v1/audio-features/?ids=3x3K1RP3Zfi2qeMR8kyrNO with Params: {} returned 403 due to None\n"
     ]
    },
    {
     "name": "stdout",
     "output_type": "stream",
     "text": [
      "Error fetching data for track ID 3x3K1RP3Zfi2qeMR8kyrNO: http status: 403, code: -1 - https://api.spotify.com/v1/audio-features/?ids=3x3K1RP3Zfi2qeMR8kyrNO:\n",
      " None, reason: None\n"
     ]
    },
    {
     "name": "stderr",
     "output_type": "stream",
     "text": [
      "HTTP Error for GET to https://api.spotify.com/v1/audio-features/?ids=7BRD7x5pt8Lqa1eGYC4dzj with Params: {} returned 403 due to None\n"
     ]
    },
    {
     "name": "stdout",
     "output_type": "stream",
     "text": [
      "Error fetching data for track ID 7BRD7x5pt8Lqa1eGYC4dzj: http status: 403, code: -1 - https://api.spotify.com/v1/audio-features/?ids=7BRD7x5pt8Lqa1eGYC4dzj:\n",
      " None, reason: None\n"
     ]
    },
    {
     "name": "stderr",
     "output_type": "stream",
     "text": [
      "HTTP Error for GET to https://api.spotify.com/v1/audio-features/?ids=09gysnJpfQ3ublBmJDfcEC with Params: {} returned 403 due to None\n"
     ]
    },
    {
     "name": "stdout",
     "output_type": "stream",
     "text": [
      "Error fetching data for track ID 09gysnJpfQ3ublBmJDfcEC: http status: 403, code: -1 - https://api.spotify.com/v1/audio-features/?ids=09gysnJpfQ3ublBmJDfcEC:\n",
      " None, reason: None\n"
     ]
    },
    {
     "name": "stderr",
     "output_type": "stream",
     "text": [
      "HTTP Error for GET to https://api.spotify.com/v1/audio-features/?ids=3be9ACTxtcL6Zm4vJRUiPG with Params: {} returned 403 due to None\n"
     ]
    },
    {
     "name": "stdout",
     "output_type": "stream",
     "text": [
      "Error fetching data for track ID 3be9ACTxtcL6Zm4vJRUiPG: http status: 403, code: -1 - https://api.spotify.com/v1/audio-features/?ids=3be9ACTxtcL6Zm4vJRUiPG:\n",
      " None, reason: None\n"
     ]
    },
    {
     "name": "stderr",
     "output_type": "stream",
     "text": [
      "HTTP Error for GET to https://api.spotify.com/v1/audio-features/?ids=6J5kc12BW5HuP3d7C3vvx8 with Params: {} returned 403 due to None\n"
     ]
    },
    {
     "name": "stdout",
     "output_type": "stream",
     "text": [
      "Error fetching data for track ID 6J5kc12BW5HuP3d7C3vvx8: http status: 403, code: -1 - https://api.spotify.com/v1/audio-features/?ids=6J5kc12BW5HuP3d7C3vvx8:\n",
      " None, reason: None\n"
     ]
    },
    {
     "name": "stderr",
     "output_type": "stream",
     "text": [
      "HTTP Error for GET to https://api.spotify.com/v1/audio-features/?ids=06EZHzBTFZapCqFaZ5fu5D with Params: {} returned 403 due to None\n"
     ]
    },
    {
     "name": "stdout",
     "output_type": "stream",
     "text": [
      "Error fetching data for track ID 06EZHzBTFZapCqFaZ5fu5D: http status: 403, code: -1 - https://api.spotify.com/v1/audio-features/?ids=06EZHzBTFZapCqFaZ5fu5D:\n",
      " None, reason: None\n"
     ]
    },
    {
     "name": "stderr",
     "output_type": "stream",
     "text": [
      "HTTP Error for GET to https://api.spotify.com/v1/audio-features/?ids=373gDROnujxNTFa1FojYIl with Params: {} returned 403 due to None\n"
     ]
    },
    {
     "name": "stdout",
     "output_type": "stream",
     "text": [
      "Error fetching data for track ID 373gDROnujxNTFa1FojYIl: http status: 403, code: -1 - https://api.spotify.com/v1/audio-features/?ids=373gDROnujxNTFa1FojYIl:\n",
      " None, reason: None\n"
     ]
    },
    {
     "name": "stderr",
     "output_type": "stream",
     "text": [
      "HTTP Error for GET to https://api.spotify.com/v1/audio-features/?ids=2HJQm4T3Pk2zvxoFhlnGjR with Params: {} returned 403 due to None\n"
     ]
    },
    {
     "name": "stdout",
     "output_type": "stream",
     "text": [
      "Error fetching data for track ID 2HJQm4T3Pk2zvxoFhlnGjR: http status: 403, code: -1 - https://api.spotify.com/v1/audio-features/?ids=2HJQm4T3Pk2zvxoFhlnGjR:\n",
      " None, reason: None\n"
     ]
    },
    {
     "name": "stderr",
     "output_type": "stream",
     "text": [
      "HTTP Error for GET to https://api.spotify.com/v1/audio-features/?ids=5jHozZMWbrExAFni95mvvH with Params: {} returned 403 due to None\n"
     ]
    },
    {
     "name": "stdout",
     "output_type": "stream",
     "text": [
      "Error fetching data for track ID 5jHozZMWbrExAFni95mvvH: http status: 403, code: -1 - https://api.spotify.com/v1/audio-features/?ids=5jHozZMWbrExAFni95mvvH:\n",
      " None, reason: None\n"
     ]
    },
    {
     "name": "stderr",
     "output_type": "stream",
     "text": [
      "HTTP Error for GET to https://api.spotify.com/v1/audio-features/?ids=0a8WvSSBRlXbvWrW8Rdqpw with Params: {} returned 403 due to None\n"
     ]
    },
    {
     "name": "stdout",
     "output_type": "stream",
     "text": [
      "Error fetching data for track ID 0a8WvSSBRlXbvWrW8Rdqpw: http status: 403, code: -1 - https://api.spotify.com/v1/audio-features/?ids=0a8WvSSBRlXbvWrW8Rdqpw:\n",
      " None, reason: None\n"
     ]
    },
    {
     "name": "stderr",
     "output_type": "stream",
     "text": [
      "HTTP Error for GET to https://api.spotify.com/v1/audio-features/?ids=7DSAEUvxU8FajXtRloy8M0 with Params: {} returned 403 due to None\n"
     ]
    },
    {
     "name": "stdout",
     "output_type": "stream",
     "text": [
      "Error fetching data for track ID 7DSAEUvxU8FajXtRloy8M0: http status: 403, code: -1 - https://api.spotify.com/v1/audio-features/?ids=7DSAEUvxU8FajXtRloy8M0:\n",
      " None, reason: None\n"
     ]
    },
    {
     "name": "stderr",
     "output_type": "stream",
     "text": [
      "HTTP Error for GET to https://api.spotify.com/v1/audio-features/?ids=4AFt1IzNjKiGCNRxRNBIFR with Params: {} returned 403 due to None\n"
     ]
    },
    {
     "name": "stdout",
     "output_type": "stream",
     "text": [
      "Error fetching data for track ID 4AFt1IzNjKiGCNRxRNBIFR: http status: 403, code: -1 - https://api.spotify.com/v1/audio-features/?ids=4AFt1IzNjKiGCNRxRNBIFR:\n",
      " None, reason: None\n"
     ]
    },
    {
     "name": "stderr",
     "output_type": "stream",
     "text": [
      "HTTP Error for GET to https://api.spotify.com/v1/audio-features/?ids=48t4JWffehJYwzwnN35ds7 with Params: {} returned 403 due to None\n"
     ]
    },
    {
     "name": "stdout",
     "output_type": "stream",
     "text": [
      "Error fetching data for track ID 48t4JWffehJYwzwnN35ds7: http status: 403, code: -1 - https://api.spotify.com/v1/audio-features/?ids=48t4JWffehJYwzwnN35ds7:\n",
      " None, reason: None\n"
     ]
    },
    {
     "name": "stderr",
     "output_type": "stream",
     "text": [
      "HTTP Error for GET to https://api.spotify.com/v1/audio-features/?ids=2FY7b99s15jUprqC0M5NCT with Params: {} returned 403 due to None\n"
     ]
    },
    {
     "name": "stdout",
     "output_type": "stream",
     "text": [
      "Error fetching data for track ID 2FY7b99s15jUprqC0M5NCT: http status: 403, code: -1 - https://api.spotify.com/v1/audio-features/?ids=2FY7b99s15jUprqC0M5NCT:\n",
      " None, reason: None\n"
     ]
    },
    {
     "name": "stderr",
     "output_type": "stream",
     "text": [
      "HTTP Error for GET to https://api.spotify.com/v1/audio-features/?ids=1NY25wfSIGtgOZCTxajUJe with Params: {} returned 403 due to None\n"
     ]
    },
    {
     "name": "stdout",
     "output_type": "stream",
     "text": [
      "Error fetching data for track ID 1NY25wfSIGtgOZCTxajUJe: http status: 403, code: -1 - https://api.spotify.com/v1/audio-features/?ids=1NY25wfSIGtgOZCTxajUJe:\n",
      " None, reason: None\n"
     ]
    },
    {
     "name": "stderr",
     "output_type": "stream",
     "text": [
      "HTTP Error for GET to https://api.spotify.com/v1/audio-features/?ids=2PnlsTsOTLE5jnBnNe2K0A with Params: {} returned 403 due to None\n"
     ]
    },
    {
     "name": "stdout",
     "output_type": "stream",
     "text": [
      "Error fetching data for track ID 2PnlsTsOTLE5jnBnNe2K0A: http status: 403, code: -1 - https://api.spotify.com/v1/audio-features/?ids=2PnlsTsOTLE5jnBnNe2K0A:\n",
      " None, reason: None\n"
     ]
    },
    {
     "name": "stderr",
     "output_type": "stream",
     "text": [
      "HTTP Error for GET to https://api.spotify.com/v1/audio-features/?ids=51ZQ1vr10ffzbwIjDCwqm4 with Params: {} returned 403 due to None\n"
     ]
    },
    {
     "name": "stdout",
     "output_type": "stream",
     "text": [
      "Error fetching data for track ID 51ZQ1vr10ffzbwIjDCwqm4: http status: 403, code: -1 - https://api.spotify.com/v1/audio-features/?ids=51ZQ1vr10ffzbwIjDCwqm4:\n",
      " None, reason: None\n"
     ]
    },
    {
     "name": "stderr",
     "output_type": "stream",
     "text": [
      "HTTP Error for GET to https://api.spotify.com/v1/audio-features/?ids=5IZXB5IKAD2qlvTPJYDCFB with Params: {} returned 403 due to None\n"
     ]
    },
    {
     "name": "stdout",
     "output_type": "stream",
     "text": [
      "Error fetching data for track ID 5IZXB5IKAD2qlvTPJYDCFB: http status: 403, code: -1 - https://api.spotify.com/v1/audio-features/?ids=5IZXB5IKAD2qlvTPJYDCFB:\n",
      " None, reason: None\n"
     ]
    },
    {
     "name": "stderr",
     "output_type": "stream",
     "text": [
      "HTTP Error for GET to https://api.spotify.com/v1/audio-features/?ids=78nx0HDJIFD5xDq2L5420Z with Params: {} returned 403 due to None\n"
     ]
    },
    {
     "name": "stdout",
     "output_type": "stream",
     "text": [
      "Error fetching data for track ID 78nx0HDJIFD5xDq2L5420Z: http status: 403, code: -1 - https://api.spotify.com/v1/audio-features/?ids=78nx0HDJIFD5xDq2L5420Z:\n",
      " None, reason: None\n"
     ]
    },
    {
     "name": "stderr",
     "output_type": "stream",
     "text": [
      "HTTP Error for GET to https://api.spotify.com/v1/audio-features/?ids=3zEN0ii6s4DHHBpnTp3RP7 with Params: {} returned 403 due to None\n"
     ]
    },
    {
     "name": "stdout",
     "output_type": "stream",
     "text": [
      "Error fetching data for track ID 3zEN0ii6s4DHHBpnTp3RP7: http status: 403, code: -1 - https://api.spotify.com/v1/audio-features/?ids=3zEN0ii6s4DHHBpnTp3RP7:\n",
      " None, reason: None\n"
     ]
    },
    {
     "name": "stderr",
     "output_type": "stream",
     "text": [
      "HTTP Error for GET to https://api.spotify.com/v1/audio-features/?ids=7D0RhFcb3CrfPuTJ0obrod with Params: {} returned 403 due to None\n"
     ]
    },
    {
     "name": "stdout",
     "output_type": "stream",
     "text": [
      "Error fetching data for track ID 7D0RhFcb3CrfPuTJ0obrod: http status: 403, code: -1 - https://api.spotify.com/v1/audio-features/?ids=7D0RhFcb3CrfPuTJ0obrod:\n",
      " None, reason: None\n",
      "Error fetching data for track ID None: expected string or bytes-like object, got 'NoneType'\n"
     ]
    },
    {
     "name": "stderr",
     "output_type": "stream",
     "text": [
      "HTTP Error for GET to https://api.spotify.com/v1/audio-features/?ids=5HZBdV5AwSvKdHFOYbXYD7 with Params: {} returned 403 due to None\n"
     ]
    },
    {
     "name": "stdout",
     "output_type": "stream",
     "text": [
      "Error fetching data for track ID 5HZBdV5AwSvKdHFOYbXYD7: http status: 403, code: -1 - https://api.spotify.com/v1/audio-features/?ids=5HZBdV5AwSvKdHFOYbXYD7:\n",
      " None, reason: None\n"
     ]
    },
    {
     "name": "stderr",
     "output_type": "stream",
     "text": [
      "HTTP Error for GET to https://api.spotify.com/v1/audio-features/?ids=3FUtnLS5C1VGhzODqVq8g0 with Params: {} returned 403 due to None\n"
     ]
    },
    {
     "name": "stdout",
     "output_type": "stream",
     "text": [
      "Error fetching data for track ID 3FUtnLS5C1VGhzODqVq8g0: http status: 403, code: -1 - https://api.spotify.com/v1/audio-features/?ids=3FUtnLS5C1VGhzODqVq8g0:\n",
      " None, reason: None\n"
     ]
    },
    {
     "name": "stderr",
     "output_type": "stream",
     "text": [
      "HTTP Error for GET to https://api.spotify.com/v1/audio-features/?ids=4EcMNaFerOsof9Q2Sk8kHg with Params: {} returned 403 due to None\n"
     ]
    },
    {
     "name": "stdout",
     "output_type": "stream",
     "text": [
      "Error fetching data for track ID 4EcMNaFerOsof9Q2Sk8kHg: http status: 403, code: -1 - https://api.spotify.com/v1/audio-features/?ids=4EcMNaFerOsof9Q2Sk8kHg:\n",
      " None, reason: None\n"
     ]
    },
    {
     "name": "stderr",
     "output_type": "stream",
     "text": [
      "HTTP Error for GET to https://api.spotify.com/v1/audio-features/?ids=2apuz4ApdiEYVEPQIkJtq7 with Params: {} returned 403 due to None\n"
     ]
    },
    {
     "name": "stdout",
     "output_type": "stream",
     "text": [
      "Error fetching data for track ID 2apuz4ApdiEYVEPQIkJtq7: http status: 403, code: -1 - https://api.spotify.com/v1/audio-features/?ids=2apuz4ApdiEYVEPQIkJtq7:\n",
      " None, reason: None\n"
     ]
    },
    {
     "name": "stderr",
     "output_type": "stream",
     "text": [
      "HTTP Error for GET to https://api.spotify.com/v1/audio-features/?ids=0FDzzruyVECATHXKHFs9eJ with Params: {} returned 403 due to None\n"
     ]
    },
    {
     "name": "stdout",
     "output_type": "stream",
     "text": [
      "Error fetching data for track ID 0FDzzruyVECATHXKHFs9eJ: http status: 403, code: -1 - https://api.spotify.com/v1/audio-features/?ids=0FDzzruyVECATHXKHFs9eJ:\n",
      " None, reason: None\n"
     ]
    },
    {
     "name": "stderr",
     "output_type": "stream",
     "text": [
      "HTTP Error for GET to https://api.spotify.com/v1/audio-features/?ids=6qqrTXSdwiJaq8SO0X2lSe with Params: {} returned 403 due to None\n"
     ]
    },
    {
     "name": "stdout",
     "output_type": "stream",
     "text": [
      "Error fetching data for track ID 6qqrTXSdwiJaq8SO0X2lSe: http status: 403, code: -1 - https://api.spotify.com/v1/audio-features/?ids=6qqrTXSdwiJaq8SO0X2lSe:\n",
      " None, reason: None\n"
     ]
    },
    {
     "name": "stderr",
     "output_type": "stream",
     "text": [
      "HTTP Error for GET to https://api.spotify.com/v1/audio-features/?ids=1SKPmfSYaPsETbRHaiA18G with Params: {} returned 403 due to None\n"
     ]
    },
    {
     "name": "stdout",
     "output_type": "stream",
     "text": [
      "Error fetching data for track ID 1SKPmfSYaPsETbRHaiA18G: http status: 403, code: -1 - https://api.spotify.com/v1/audio-features/?ids=1SKPmfSYaPsETbRHaiA18G:\n",
      " None, reason: None\n"
     ]
    },
    {
     "name": "stderr",
     "output_type": "stream",
     "text": [
      "HTTP Error for GET to https://api.spotify.com/v1/audio-features/?ids=0hta2Lb2zKJ7kEnAEZEE3G with Params: {} returned 403 due to None\n"
     ]
    },
    {
     "name": "stdout",
     "output_type": "stream",
     "text": [
      "Error fetching data for track ID 0hta2Lb2zKJ7kEnAEZEE3G: http status: 403, code: -1 - https://api.spotify.com/v1/audio-features/?ids=0hta2Lb2zKJ7kEnAEZEE3G:\n",
      " None, reason: None\n"
     ]
    },
    {
     "name": "stderr",
     "output_type": "stream",
     "text": [
      "HTTP Error for GET to https://api.spotify.com/v1/audio-features/?ids=5MvJALOBH7jd3O9Ym2CgTj with Params: {} returned 403 due to None\n"
     ]
    },
    {
     "name": "stdout",
     "output_type": "stream",
     "text": [
      "Error fetching data for track ID 5MvJALOBH7jd3O9Ym2CgTj: http status: 403, code: -1 - https://api.spotify.com/v1/audio-features/?ids=5MvJALOBH7jd3O9Ym2CgTj:\n",
      " None, reason: None\n"
     ]
    },
    {
     "name": "stderr",
     "output_type": "stream",
     "text": [
      "HTTP Error for GET to https://api.spotify.com/v1/audio-features/?ids=7e89621JPkKaeDSTQ3avtg with Params: {} returned 403 due to None\n"
     ]
    },
    {
     "name": "stdout",
     "output_type": "stream",
     "text": [
      "Error fetching data for track ID 7e89621JPkKaeDSTQ3avtg: http status: 403, code: -1 - https://api.spotify.com/v1/audio-features/?ids=7e89621JPkKaeDSTQ3avtg:\n",
      " None, reason: None\n"
     ]
    },
    {
     "name": "stderr",
     "output_type": "stream",
     "text": [
      "HTTP Error for GET to https://api.spotify.com/v1/audio-features/?ids=4t9u8OqEerdxhss25kmInv with Params: {} returned 403 due to None\n"
     ]
    },
    {
     "name": "stdout",
     "output_type": "stream",
     "text": [
      "Error fetching data for track ID 4t9u8OqEerdxhss25kmInv: http status: 403, code: -1 - https://api.spotify.com/v1/audio-features/?ids=4t9u8OqEerdxhss25kmInv:\n",
      " None, reason: None\n"
     ]
    },
    {
     "name": "stderr",
     "output_type": "stream",
     "text": [
      "HTTP Error for GET to https://api.spotify.com/v1/audio-features/?ids=5QfBuE8VSeZHRnQta8BsqO with Params: {} returned 403 due to None\n"
     ]
    },
    {
     "name": "stdout",
     "output_type": "stream",
     "text": [
      "Error fetching data for track ID 5QfBuE8VSeZHRnQta8BsqO: http status: 403, code: -1 - https://api.spotify.com/v1/audio-features/?ids=5QfBuE8VSeZHRnQta8BsqO:\n",
      " None, reason: None\n"
     ]
    },
    {
     "name": "stderr",
     "output_type": "stream",
     "text": [
      "HTTP Error for GET to https://api.spotify.com/v1/audio-features/?ids=7K13PjudDL0Uy2WEwm4jpF with Params: {} returned 403 due to None\n"
     ]
    },
    {
     "name": "stdout",
     "output_type": "stream",
     "text": [
      "Error fetching data for track ID 7K13PjudDL0Uy2WEwm4jpF: http status: 403, code: -1 - https://api.spotify.com/v1/audio-features/?ids=7K13PjudDL0Uy2WEwm4jpF:\n",
      " None, reason: None\n"
     ]
    },
    {
     "name": "stderr",
     "output_type": "stream",
     "text": [
      "HTTP Error for GET to https://api.spotify.com/v1/audio-features/?ids=5OVOCZqB0n38JoGdja4qXX with Params: {} returned 403 due to None\n"
     ]
    },
    {
     "name": "stdout",
     "output_type": "stream",
     "text": [
      "Error fetching data for track ID 5OVOCZqB0n38JoGdja4qXX: http status: 403, code: -1 - https://api.spotify.com/v1/audio-features/?ids=5OVOCZqB0n38JoGdja4qXX:\n",
      " None, reason: None\n"
     ]
    },
    {
     "name": "stderr",
     "output_type": "stream",
     "text": [
      "HTTP Error for GET to https://api.spotify.com/v1/audio-features/?ids=2RswadHZmcOVQoXlqseblW with Params: {} returned 403 due to None\n"
     ]
    },
    {
     "name": "stdout",
     "output_type": "stream",
     "text": [
      "Error fetching data for track ID 2RswadHZmcOVQoXlqseblW: http status: 403, code: -1 - https://api.spotify.com/v1/audio-features/?ids=2RswadHZmcOVQoXlqseblW:\n",
      " None, reason: None\n"
     ]
    },
    {
     "name": "stderr",
     "output_type": "stream",
     "text": [
      "HTTP Error for GET to https://api.spotify.com/v1/audio-features/?ids=7lQ8MOhq6IN2w8EYcFNSUk with Params: {} returned 403 due to None\n"
     ]
    },
    {
     "name": "stdout",
     "output_type": "stream",
     "text": [
      "Error fetching data for track ID 7lQ8MOhq6IN2w8EYcFNSUk: http status: 403, code: -1 - https://api.spotify.com/v1/audio-features/?ids=7lQ8MOhq6IN2w8EYcFNSUk:\n",
      " None, reason: None\n"
     ]
    },
    {
     "name": "stderr",
     "output_type": "stream",
     "text": [
      "HTTP Error for GET to https://api.spotify.com/v1/audio-features/?ids=4G0ODtkvV2bLMyKH4jdrqW with Params: {} returned 403 due to None\n"
     ]
    },
    {
     "name": "stdout",
     "output_type": "stream",
     "text": [
      "Error fetching data for track ID 4G0ODtkvV2bLMyKH4jdrqW: http status: 403, code: -1 - https://api.spotify.com/v1/audio-features/?ids=4G0ODtkvV2bLMyKH4jdrqW:\n",
      " None, reason: None\n"
     ]
    },
    {
     "name": "stderr",
     "output_type": "stream",
     "text": [
      "HTTP Error for GET to https://api.spotify.com/v1/audio-features/?ids=2O7UGwJPVlix15Wn4sa5vw with Params: {} returned 403 due to None\n"
     ]
    },
    {
     "name": "stdout",
     "output_type": "stream",
     "text": [
      "Error fetching data for track ID 2O7UGwJPVlix15Wn4sa5vw: http status: 403, code: -1 - https://api.spotify.com/v1/audio-features/?ids=2O7UGwJPVlix15Wn4sa5vw:\n",
      " None, reason: None\n"
     ]
    }
   ],
   "source": [
    "import time\n",
    "# Fetch metadata and audio features\n",
    "def fetch_track_data(track_id):\n",
    "    try:\n",
    "        track = sp.track(track_id)\n",
    "        features = sp.audio_features([track_id])[0]\n",
    "        if features:\n",
    "            return {\n",
    "                \"track_id\": track_id,\n",
    "                \"track_name\": track[\"name\"],\n",
    "                \"artists\": \", \".join([a[\"name\"] for a in track[\"artists\"]]),\n",
    "                \"album_name\": track[\"album\"][\"name\"],\n",
    "                \"popularity\": track[\"popularity\"],\n",
    "                \"duration_ms\": track[\"duration_ms\"],\n",
    "                \"explicit\": track[\"explicit\"],\n",
    "                \"danceability\": features[\"danceability\"],\n",
    "                \"energy\": features[\"energy\"],\n",
    "                \"key\": features[\"key\"],\n",
    "                \"loudness\": features[\"loudness\"],\n",
    "                \"mode\": features[\"mode\"],\n",
    "                \"speechiness\": features[\"speechiness\"],\n",
    "                \"acousticness\": features[\"acousticness\"],\n",
    "                \"instrumentalness\": features[\"instrumentalness\"],\n",
    "                \"liveness\": features[\"liveness\"],\n",
    "                \"valence\": features[\"valence\"],\n",
    "                \"tempo\": features[\"tempo\"],\n",
    "                \"time_signature\": features[\"time_signature\"]\n",
    "            }\n",
    "    except Exception as e:\n",
    "        print(f\"Error fetching data for track ID {track_id}: {e}\")\n",
    "    return None\n",
    "\n",
    "# Collect data\n",
    "data = []\n",
    "for tid in track_id:\n",
    "    track_data = fetch_track_data(tid)\n",
    "    if track_data:\n",
    "        data.append(track_data)\n",
    "    time.sleep(0.2)\n",
    "\n"
   ]
  },
  {
   "cell_type": "code",
   "execution_count": null,
   "id": "00c8ddc0",
   "metadata": {},
   "outputs": [
    {
     "ename": "SyntaxError",
     "evalue": "incomplete input (2470659451.py, line 4)",
     "output_type": "error",
     "traceback": [
      "  \u001b[36mCell\u001b[39m\u001b[36m \u001b[39m\u001b[32mIn[19]\u001b[39m\u001b[32m, line 4\u001b[39m\n\u001b[31m    \u001b[39m\u001b[31mfeatures=sp.audio_features([track_id])[0]\u001b[39m\n                                             ^\n\u001b[31mSyntaxError\u001b[39m\u001b[31m:\u001b[39m incomplete input\n"
     ]
    }
   ],
   "source": [
    "def fetch_track_data(track_id):\n",
    "    try:\n",
    "        track= sp.track(track_id)\n",
    "        features=sp.audio_features([track_id])[0]\n",
    "        "
   ]
  },
  {
   "cell_type": "code",
   "execution_count": null,
   "id": "936ac7e0",
   "metadata": {},
   "outputs": [],
   "source": []
  },
  {
   "cell_type": "code",
   "execution_count": null,
   "id": "5656bb71",
   "metadata": {},
   "outputs": [],
   "source": [
    "import os\n",
    "os.makedirs(\"playlist\", exist_ok=True)\n",
    "csv_path = os.path.join(\"playlist\", \"top_100_billboard.csv\")\n",
    "song_df.to_csv(csv_path, index=False)\n",
    "\n"
   ]
  }
 ],
 "metadata": {
  "kernelspec": {
   "display_name": "Python 3",
   "language": "python",
   "name": "python3"
  },
  "language_info": {
   "codemirror_mode": {
    "name": "ipython",
    "version": 3
   },
   "file_extension": ".py",
   "mimetype": "text/x-python",
   "name": "python",
   "nbconvert_exporter": "python",
   "pygments_lexer": "ipython3",
   "version": "3.11.5"
  }
 },
 "nbformat": 4,
 "nbformat_minor": 5
}
