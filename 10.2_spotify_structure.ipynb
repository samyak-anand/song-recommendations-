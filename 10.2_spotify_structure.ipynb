{
 "cells": [
  {
   "cell_type": "markdown",
   "metadata": {
    "id": "-M3QFIFrKdPt"
   },
   "source": [
    "# Installing Spotipy"
   ]
  },
  {
   "cell_type": "code",
   "execution_count": null,
   "metadata": {
    "colab": {
     "base_uri": "https://localhost:8080/"
    },
    "executionInfo": {
     "elapsed": 5245,
     "status": "ok",
     "timestamp": 1623745902730,
     "user": {
      "displayName": "Ignacio Soteras",
      "photoUrl": "",
      "userId": "02050793736257155229"
     },
     "user_tz": -120
    },
    "id": "tis_6tTpKY1Z",
    "outputId": "adfb4763-04d9-4b55-b0d8-c5e317263072"
   },
   "outputs": [],
   "source": [
    "##!conda install -c conda-forge spotipy"
   ]
  },
  {
   "cell_type": "markdown",
   "metadata": {
    "id": "fnhh4ayEOKz4"
   },
   "source": [
    "## Loading credentials from the config file"
   ]
  },
  {
   "cell_type": "markdown",
   "metadata": {},
   "source": [
    "#### Make sure that you have stored your spotify client_id and client_secret in a separate config.py file\n",
    "#### Once that's done, we import it"
   ]
  },
  {
   "cell_type": "code",
   "execution_count": null,
   "metadata": {
    "ExecuteTime": {
     "end_time": "2022-11-23T08:53:19.773334Z",
     "start_time": "2022-11-23T08:53:19.511876Z"
    },
    "colab": {
     "base_uri": "https://localhost:8080/"
    },
    "executionInfo": {
     "elapsed": 23559,
     "status": "ok",
     "timestamp": 1623745938174,
     "user": {
      "displayName": "Ignacio Soteras",
      "photoUrl": "",
      "userId": "02050793736257155229"
     },
     "user_tz": -120
    },
    "id": "5j1kqPOoN_I5",
    "outputId": "23c4b5dd-b94b-425d-e2b9-e5647cb055df"
   },
   "outputs": [],
   "source": [
    "import config"
   ]
  },
  {
   "cell_type": "markdown",
   "metadata": {
    "id": "0fpGWmsCOSx0"
   },
   "source": [
    "## Starting with the Spotify API"
   ]
  },
  {
   "cell_type": "code",
   "execution_count": null,
   "metadata": {
    "ExecuteTime": {
     "end_time": "2022-11-23T08:53:27.060562Z",
     "start_time": "2022-11-23T08:53:26.974725Z"
    },
    "colab": {
     "base_uri": "https://localhost:8080/"
    },
    "executionInfo": {
     "elapsed": 313,
     "status": "ok",
     "timestamp": 1623747121467,
     "user": {
      "displayName": "Ignacio Soteras",
      "photoUrl": "",
      "userId": "02050793736257155229"
     },
     "user_tz": -120
    },
    "id": "-0qiqFTZqqE2",
    "outputId": "c532baae-8ff5-4abc-b70e-0bda934d25b1"
   },
   "outputs": [],
   "source": [
    "import spotipy\n",
    "import pandas as pd\n",
    "import json\n",
    "from spotipy.oauth2 import SpotifyClientCredentials\n",
    "\n",
    "\n",
    "#Initialize SpotiPy with user credentials\n",
    "sp = spotipy.Spotify(auth_manager=SpotifyClientCredentials(client_id= config.client_id,\n",
    "                                                           client_secret= config.client_secret))\n",
    "\n",
    "\n",
    "\n",
    "results = sp.search(q=\"daddy cool\",limit=5,market=\"GB\")\n",
    "results\n"
   ]
  },
  {
   "cell_type": "code",
   "execution_count": null,
   "metadata": {},
   "outputs": [],
   "source": [
    "import pprint"
   ]
  },
  {
   "cell_type": "code",
   "execution_count": null,
   "metadata": {},
   "outputs": [],
   "source": [
    "pprint.pprint(results)"
   ]
  },
  {
   "cell_type": "code",
   "execution_count": null,
   "metadata": {},
   "outputs": [],
   "source": [
    "pprint.pprint(results[\"tracks\"][\"items\"][0][\"id\"])"
   ]
  },
  {
   "cell_type": "markdown",
   "metadata": {
    "id": "wlYAUHZMGEPp"
   },
   "source": [
    "# Understanding the json"
   ]
  },
  {
   "cell_type": "code",
   "execution_count": null,
   "metadata": {
    "colab": {
     "base_uri": "https://localhost:8080/"
    },
    "executionInfo": {
     "elapsed": 336,
     "status": "ok",
     "timestamp": 1623748232522,
     "user": {
      "displayName": "Ignacio Soteras",
      "photoUrl": "",
      "userId": "02050793736257155229"
     },
     "user_tz": -120
    },
    "id": "gQzoV9fjEbm6",
    "outputId": "0747fac5-b2f5-44a0-a9cd-393ed3196cbf",
    "scrolled": true
   },
   "outputs": [],
   "source": [
    "print(\"The json file has the following keys: \",list(results.keys())) # We can see that we only have tracks\n",
    "print(\"The 'tracks' key has the following child keys: \",list(results[\"tracks\"].keys())) # Let's check the values\n",
    "print(\"The query we made is: \",results[\"tracks\"][\"href\"]) # Query we have searched \n",
    "print(\"The song's info is contained in: \",results[\"tracks\"][\"items\"]) #items (actual tracks)\n",
    "print(\"The limit of the query we've made is: \",results[\"tracks\"][\"limit\"]) #Limit we have chosen\n",
    "print(\"The next page if any: \",results[\"tracks\"][\"next\"]) #link to the next page (next 50 tracks)\n",
    "print(\"The starting webpage: \",results[\"tracks\"][\"offset\"]) # Actual offset (starting point)\n",
    "print(\"Starting webpage: \",results[\"tracks\"][\"previous\"]) #Previous search\n",
    "print(\"Total number of results: \",results[\"tracks\"][\"total\"]) # Number of matches"
   ]
  },
  {
   "cell_type": "markdown",
   "metadata": {
    "id": "ma33RhJ3GyyD"
   },
   "source": [
    "## Other Info"
   ]
  },
  {
   "cell_type": "code",
   "execution_count": null,
   "metadata": {
    "colab": {
     "base_uri": "https://localhost:8080/",
     "height": 35
    },
    "executionInfo": {
     "elapsed": 314,
     "status": "ok",
     "timestamp": 1623748532709,
     "user": {
      "displayName": "Ignacio Soteras",
      "photoUrl": "",
      "userId": "02050793736257155229"
     },
     "user_tz": -120
    },
    "id": "rpRcNkuhG1Ht",
    "outputId": "bb6cc417-17bd-404f-d31c-302a97bf9ffe"
   },
   "outputs": [],
   "source": [
    "results[\"tracks\"][\"items\"][0][\"artists\"] # Track artists\n",
    "results[\"tracks\"][\"items\"][0][\"id\"] # Track ID\n",
    "results[\"tracks\"][\"items\"][0][\"name\"] # Track name\n",
    "results[\"tracks\"][\"items\"][0][\"popularity\"] # Popularity index\n",
    "results[\"tracks\"][\"items\"][0][\"uri\"] # Basically ID"
   ]
  },
  {
   "cell_type": "code",
   "execution_count": null,
   "metadata": {
    "scrolled": true
   },
   "outputs": [],
   "source": [
    "len(results['tracks'][\"items\"])"
   ]
  },
  {
   "cell_type": "markdown",
   "metadata": {},
   "source": [
    "## Getting the track_id"
   ]
  },
  {
   "cell_type": "code",
   "execution_count": null,
   "metadata": {},
   "outputs": [],
   "source": [
    "track_id=results[\"tracks\"][\"items\"][0][\"id\"]\n",
    "track_id"
   ]
  },
  {
   "cell_type": "code",
   "execution_count": null,
   "metadata": {
    "colab": {
     "base_uri": "https://localhost:8080/"
    },
    "executionInfo": {
     "elapsed": 330,
     "status": "ok",
     "timestamp": 1623747443303,
     "user": {
      "displayName": "Ignacio Soteras",
      "photoUrl": "",
      "userId": "02050793736257155229"
     },
     "user_tz": -120
    },
    "id": "Pe8hlEUPYu3a",
    "outputId": "57786b5a-1877-44a6-9249-72cec7204733"
   },
   "outputs": [],
   "source": [
    "for item in results['tracks']['items']:\n",
    "    print(\"The name of song is: '{}' and the id is: {}\".format(item['name'],item[\"id\"]))"
   ]
  },
  {
   "cell_type": "markdown",
   "metadata": {},
   "source": [
    "## Embedded track player"
   ]
  },
  {
   "cell_type": "code",
   "execution_count": null,
   "metadata": {},
   "outputs": [],
   "source": [
    "from IPython.display import IFrame\n",
    "\n",
    "track_id = '3WMbD1OyfKuwWDWMNbPQ4g'\n",
    "#track_id= 'spotify:track:3hgl7EQwTutSm6PESsB7gZ'\n",
    "IFrame(src=\"https://open.spotify.com/embed/track/\"+track_id,\n",
    "       width=\"320\",\n",
    "       height=\"80\",\n",
    "       frameborder=\"0\",\n",
    "       allowtransparency=\"true\",\n",
    "       allow=\"encrypted-media\",\n",
    "      )"
   ]
  },
  {
   "cell_type": "code",
   "execution_count": null,
   "metadata": {},
   "outputs": [],
   "source": [
    "def play_song(track_id):\n",
    "    return IFrame(src=\"https://open.spotify.com/embed/track/\"+track_id,\n",
    "       width=\"320\",\n",
    "       height=\"80\",\n",
    "       frameborder=\"0\",\n",
    "       allowtransparency=\"true\",\n",
    "       allow=\"encrypted-media\",\n",
    "      )"
   ]
  },
  {
   "cell_type": "code",
   "execution_count": null,
   "metadata": {},
   "outputs": [],
   "source": [
    "play_song('3WMbD1OyfKuwWDWMNbPQ4g')"
   ]
  }
 ],
 "metadata": {
  "colab": {
   "authorship_tag": "ABX9TyPVWC1t3Am5oxfsHrz0cF36",
   "mount_file_id": "1f3HsS5F0GzS75tlHyrwhBGlTWbE0nG4o",
   "name": "Code_along_Spotify_structure.ipynb",
   "provenance": []
  },
  "kernelspec": {
   "display_name": "Python 3 (ipykernel)",
   "language": "python",
   "name": "python3"
  },
  "language_info": {
   "codemirror_mode": {
    "name": "ipython",
    "version": 3
   },
   "file_extension": ".py",
   "mimetype": "text/x-python",
   "name": "python",
   "nbconvert_exporter": "python",
   "pygments_lexer": "ipython3",
   "version": "3.11.5"
  },
  "toc": {
   "base_numbering": 1,
   "nav_menu": {},
   "number_sections": true,
   "sideBar": true,
   "skip_h1_title": false,
   "title_cell": "Table of Contents",
   "title_sidebar": "Contents",
   "toc_cell": false,
   "toc_position": {},
   "toc_section_display": true,
   "toc_window_display": false
  },
  "varInspector": {
   "cols": {
    "lenName": 16,
    "lenType": 16,
    "lenVar": 40
   },
   "kernels_config": {
    "python": {
     "delete_cmd_postfix": "",
     "delete_cmd_prefix": "del ",
     "library": "var_list.py",
     "varRefreshCmd": "print(var_dic_list())"
    },
    "r": {
     "delete_cmd_postfix": ") ",
     "delete_cmd_prefix": "rm(",
     "library": "var_list.r",
     "varRefreshCmd": "cat(var_dic_list()) "
    }
   },
   "types_to_exclude": [
    "module",
    "function",
    "builtin_function_or_method",
    "instance",
    "_Feature"
   ],
   "window_display": false
  }
 },
 "nbformat": 4,
 "nbformat_minor": 1
}
