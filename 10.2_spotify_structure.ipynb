{
 "cells": [
  {
   "cell_type": "markdown",
   "metadata": {
    "id": "-M3QFIFrKdPt"
   },
   "source": [
    "# Installing Spotipy"
   ]
  },
  {
   "cell_type": "code",
   "execution_count": 103,
   "metadata": {
    "colab": {
     "base_uri": "https://localhost:8080/"
    },
    "executionInfo": {
     "elapsed": 5245,
     "status": "ok",
     "timestamp": 1623745902730,
     "user": {
      "displayName": "Ignacio Soteras",
      "photoUrl": "",
      "userId": "02050793736257155229"
     },
     "user_tz": -120
    },
    "id": "tis_6tTpKY1Z",
    "outputId": "adfb4763-04d9-4b55-b0d8-c5e317263072"
   },
   "outputs": [
    {
     "name": "stdout",
     "output_type": "stream",
     "text": [
      "Requirement already satisfied: spotipy in c:\\users\\samya\\appdata\\local\\programs\\python\\python311\\lib\\site-packages (2.25.1)\n",
      "Requirement already satisfied: redis>=3.5.3 in c:\\users\\samya\\appdata\\local\\programs\\python\\python311\\lib\\site-packages (from spotipy) (6.2.0)\n",
      "Requirement already satisfied: requests>=2.25.0 in c:\\users\\samya\\appdata\\local\\programs\\python\\python311\\lib\\site-packages (from spotipy) (2.32.4)\n",
      "Requirement already satisfied: urllib3>=1.26.0 in c:\\users\\samya\\appdata\\local\\programs\\python\\python311\\lib\\site-packages (from spotipy) (2.4.0)\n",
      "Requirement already satisfied: charset_normalizer<4,>=2 in c:\\users\\samya\\appdata\\local\\programs\\python\\python311\\lib\\site-packages (from requests>=2.25.0->spotipy) (3.4.2)\n",
      "Requirement already satisfied: idna<4,>=2.5 in c:\\users\\samya\\appdata\\local\\programs\\python\\python311\\lib\\site-packages (from requests>=2.25.0->spotipy) (3.10)\n",
      "Requirement already satisfied: certifi>=2017.4.17 in c:\\users\\samya\\appdata\\local\\programs\\python\\python311\\lib\\site-packages (from requests>=2.25.0->spotipy) (2025.6.15)\n",
      "Note: you may need to restart the kernel to use updated packages.\n"
     ]
    },
    {
     "name": "stderr",
     "output_type": "stream",
     "text": [
      "\n",
      "[notice] A new release of pip is available: 23.2.1 -> 25.1.1\n",
      "[notice] To update, run: python.exe -m pip install --upgrade pip\n"
     ]
    }
   ],
   "source": [
    "pip install spotipy"
   ]
  },
  {
   "cell_type": "markdown",
   "metadata": {
    "id": "fnhh4ayEOKz4"
   },
   "source": [
    "## Loading credentials from the config file"
   ]
  },
  {
   "cell_type": "markdown",
   "metadata": {},
   "source": [
    "#### Make sure that you have stored your spotify client_id and client_secret in a separate config.py file\n",
    "#### Once that's done, we import it"
   ]
  },
  {
   "cell_type": "code",
   "execution_count": 104,
   "metadata": {
    "ExecuteTime": {
     "end_time": "2022-11-23T08:53:19.773334Z",
     "start_time": "2022-11-23T08:53:19.511876Z"
    },
    "colab": {
     "base_uri": "https://localhost:8080/"
    },
    "executionInfo": {
     "elapsed": 23559,
     "status": "ok",
     "timestamp": 1623745938174,
     "user": {
      "displayName": "Ignacio Soteras",
      "photoUrl": "",
      "userId": "02050793736257155229"
     },
     "user_tz": -120
    },
    "id": "5j1kqPOoN_I5",
    "outputId": "23c4b5dd-b94b-425d-e2b9-e5647cb055df"
   },
   "outputs": [],
   "source": [
    "import config"
   ]
  },
  {
   "cell_type": "markdown",
   "metadata": {
    "id": "0fpGWmsCOSx0"
   },
   "source": [
    "## Starting with the Spotify API"
   ]
  },
  {
   "cell_type": "code",
   "execution_count": 105,
   "metadata": {
    "ExecuteTime": {
     "end_time": "2022-11-23T08:53:27.060562Z",
     "start_time": "2022-11-23T08:53:26.974725Z"
    },
    "colab": {
     "base_uri": "https://localhost:8080/"
    },
    "executionInfo": {
     "elapsed": 313,
     "status": "ok",
     "timestamp": 1623747121467,
     "user": {
      "displayName": "Ignacio Soteras",
      "photoUrl": "",
      "userId": "02050793736257155229"
     },
     "user_tz": -120
    },
    "id": "-0qiqFTZqqE2",
    "outputId": "c532baae-8ff5-4abc-b70e-0bda934d25b1"
   },
   "outputs": [
    {
     "data": {
      "text/plain": [
       "{'tracks': {'href': 'https://api.spotify.com/v1/search?offset=0&limit=5&query=daddy%20cool&type=track&market=GB',\n",
       "  'limit': 5,\n",
       "  'next': 'https://api.spotify.com/v1/search?offset=5&limit=5&query=daddy%20cool&type=track&market=GB',\n",
       "  'offset': 0,\n",
       "  'previous': None,\n",
       "  'total': 903,\n",
       "  'items': [{'album': {'album_type': 'album',\n",
       "     'artists': [{'external_urls': {'spotify': 'https://open.spotify.com/artist/54R6Y0I7jGUCveDTtI21nb'},\n",
       "       'href': 'https://api.spotify.com/v1/artists/54R6Y0I7jGUCveDTtI21nb',\n",
       "       'id': '54R6Y0I7jGUCveDTtI21nb',\n",
       "       'name': 'Boney M.',\n",
       "       'type': 'artist',\n",
       "       'uri': 'spotify:artist:54R6Y0I7jGUCveDTtI21nb'}],\n",
       "     'external_urls': {'spotify': 'https://open.spotify.com/album/1KQUrny9y5zGpktF6hAGd4'},\n",
       "     'href': 'https://api.spotify.com/v1/albums/1KQUrny9y5zGpktF6hAGd4',\n",
       "     'id': '1KQUrny9y5zGpktF6hAGd4',\n",
       "     'images': [{'height': 640,\n",
       "       'width': 640,\n",
       "       'url': 'https://i.scdn.co/image/ab67616d0000b273dafd1cd6e9537ec8463ea691'},\n",
       "      {'height': 300,\n",
       "       'width': 300,\n",
       "       'url': 'https://i.scdn.co/image/ab67616d00001e02dafd1cd6e9537ec8463ea691'},\n",
       "      {'height': 64,\n",
       "       'width': 64,\n",
       "       'url': 'https://i.scdn.co/image/ab67616d00004851dafd1cd6e9537ec8463ea691'}],\n",
       "     'is_playable': True,\n",
       "     'name': 'Take The Heat Off Me',\n",
       "     'release_date': '1976',\n",
       "     'release_date_precision': 'year',\n",
       "     'total_tracks': 10,\n",
       "     'type': 'album',\n",
       "     'uri': 'spotify:album:1KQUrny9y5zGpktF6hAGd4'},\n",
       "    'artists': [{'external_urls': {'spotify': 'https://open.spotify.com/artist/54R6Y0I7jGUCveDTtI21nb'},\n",
       "      'href': 'https://api.spotify.com/v1/artists/54R6Y0I7jGUCveDTtI21nb',\n",
       "      'id': '54R6Y0I7jGUCveDTtI21nb',\n",
       "      'name': 'Boney M.',\n",
       "      'type': 'artist',\n",
       "      'uri': 'spotify:artist:54R6Y0I7jGUCveDTtI21nb'}],\n",
       "    'disc_number': 1,\n",
       "    'duration_ms': 208600,\n",
       "    'explicit': False,\n",
       "    'external_ids': {'isrc': 'DEC737600002'},\n",
       "    'external_urls': {'spotify': 'https://open.spotify.com/track/3WMbD1OyfKuwWDWMNbPQ4g'},\n",
       "    'href': 'https://api.spotify.com/v1/tracks/3WMbD1OyfKuwWDWMNbPQ4g',\n",
       "    'id': '3WMbD1OyfKuwWDWMNbPQ4g',\n",
       "    'is_local': False,\n",
       "    'is_playable': True,\n",
       "    'name': 'Daddy Cool',\n",
       "    'popularity': 79,\n",
       "    'preview_url': None,\n",
       "    'track_number': 1,\n",
       "    'type': 'track',\n",
       "    'uri': 'spotify:track:3WMbD1OyfKuwWDWMNbPQ4g'},\n",
       "   {'album': {'album_type': 'compilation',\n",
       "     'artists': [{'external_urls': {'spotify': 'https://open.spotify.com/artist/54R6Y0I7jGUCveDTtI21nb'},\n",
       "       'href': 'https://api.spotify.com/v1/artists/54R6Y0I7jGUCveDTtI21nb',\n",
       "       'id': '54R6Y0I7jGUCveDTtI21nb',\n",
       "       'name': 'Boney M.',\n",
       "       'type': 'artist',\n",
       "       'uri': 'spotify:artist:54R6Y0I7jGUCveDTtI21nb'}],\n",
       "     'external_urls': {'spotify': 'https://open.spotify.com/album/155cebHEGGBqYJAXKWJw6D'},\n",
       "     'href': 'https://api.spotify.com/v1/albums/155cebHEGGBqYJAXKWJw6D',\n",
       "     'id': '155cebHEGGBqYJAXKWJw6D',\n",
       "     'images': [{'height': 640,\n",
       "       'width': 640,\n",
       "       'url': 'https://i.scdn.co/image/ab67616d0000b273d792d961638fd28f8d281947'},\n",
       "      {'height': 300,\n",
       "       'width': 300,\n",
       "       'url': 'https://i.scdn.co/image/ab67616d00001e02d792d961638fd28f8d281947'},\n",
       "      {'height': 64,\n",
       "       'width': 64,\n",
       "       'url': 'https://i.scdn.co/image/ab67616d00004851d792d961638fd28f8d281947'}],\n",
       "     'is_playable': True,\n",
       "     'name': 'Daddy Cool',\n",
       "     'release_date': '1994-03-14',\n",
       "     'release_date_precision': 'day',\n",
       "     'total_tracks': 16,\n",
       "     'type': 'album',\n",
       "     'uri': 'spotify:album:155cebHEGGBqYJAXKWJw6D'},\n",
       "    'artists': [{'external_urls': {'spotify': 'https://open.spotify.com/artist/54R6Y0I7jGUCveDTtI21nb'},\n",
       "      'href': 'https://api.spotify.com/v1/artists/54R6Y0I7jGUCveDTtI21nb',\n",
       "      'id': '54R6Y0I7jGUCveDTtI21nb',\n",
       "      'name': 'Boney M.',\n",
       "      'type': 'artist',\n",
       "      'uri': 'spotify:artist:54R6Y0I7jGUCveDTtI21nb'}],\n",
       "    'disc_number': 1,\n",
       "    'duration_ms': 206093,\n",
       "    'explicit': False,\n",
       "    'external_ids': {'isrc': 'DEC737600002'},\n",
       "    'external_urls': {'spotify': 'https://open.spotify.com/track/702Xo5V8OhlY2cQEczCT2j'},\n",
       "    'href': 'https://api.spotify.com/v1/tracks/702Xo5V8OhlY2cQEczCT2j',\n",
       "    'id': '702Xo5V8OhlY2cQEczCT2j',\n",
       "    'is_local': False,\n",
       "    'is_playable': True,\n",
       "    'name': 'Daddy Cool',\n",
       "    'popularity': 55,\n",
       "    'preview_url': None,\n",
       "    'track_number': 7,\n",
       "    'type': 'track',\n",
       "    'uri': 'spotify:track:702Xo5V8OhlY2cQEczCT2j'},\n",
       "   {'album': {'album_type': 'compilation',\n",
       "     'artists': [{'external_urls': {'spotify': 'https://open.spotify.com/artist/54R6Y0I7jGUCveDTtI21nb'},\n",
       "       'href': 'https://api.spotify.com/v1/artists/54R6Y0I7jGUCveDTtI21nb',\n",
       "       'id': '54R6Y0I7jGUCveDTtI21nb',\n",
       "       'name': 'Boney M.',\n",
       "       'type': 'artist',\n",
       "       'uri': 'spotify:artist:54R6Y0I7jGUCveDTtI21nb'}],\n",
       "     'external_urls': {'spotify': 'https://open.spotify.com/album/155cebHEGGBqYJAXKWJw6D'},\n",
       "     'href': 'https://api.spotify.com/v1/albums/155cebHEGGBqYJAXKWJw6D',\n",
       "     'id': '155cebHEGGBqYJAXKWJw6D',\n",
       "     'images': [{'height': 640,\n",
       "       'width': 640,\n",
       "       'url': 'https://i.scdn.co/image/ab67616d0000b273d792d961638fd28f8d281947'},\n",
       "      {'height': 300,\n",
       "       'width': 300,\n",
       "       'url': 'https://i.scdn.co/image/ab67616d00001e02d792d961638fd28f8d281947'},\n",
       "      {'height': 64,\n",
       "       'width': 64,\n",
       "       'url': 'https://i.scdn.co/image/ab67616d00004851d792d961638fd28f8d281947'}],\n",
       "     'is_playable': True,\n",
       "     'name': 'Daddy Cool',\n",
       "     'release_date': '1994-03-14',\n",
       "     'release_date_precision': 'day',\n",
       "     'total_tracks': 16,\n",
       "     'type': 'album',\n",
       "     'uri': 'spotify:album:155cebHEGGBqYJAXKWJw6D'},\n",
       "    'artists': [{'external_urls': {'spotify': 'https://open.spotify.com/artist/54R6Y0I7jGUCveDTtI21nb'},\n",
       "      'href': 'https://api.spotify.com/v1/artists/54R6Y0I7jGUCveDTtI21nb',\n",
       "      'id': '54R6Y0I7jGUCveDTtI21nb',\n",
       "      'name': 'Boney M.',\n",
       "      'type': 'artist',\n",
       "      'uri': 'spotify:artist:54R6Y0I7jGUCveDTtI21nb'}],\n",
       "    'disc_number': 1,\n",
       "    'duration_ms': 220666,\n",
       "    'explicit': False,\n",
       "    'external_ids': {'isrc': 'DED160000010'},\n",
       "    'external_urls': {'spotify': 'https://open.spotify.com/track/5lWSa1rmuSL6OBPOnkAqoa'},\n",
       "    'href': 'https://api.spotify.com/v1/tracks/5lWSa1rmuSL6OBPOnkAqoa',\n",
       "    'id': '5lWSa1rmuSL6OBPOnkAqoa',\n",
       "    'is_local': False,\n",
       "    'is_playable': True,\n",
       "    'name': 'Rasputin',\n",
       "    'popularity': 72,\n",
       "    'preview_url': None,\n",
       "    'track_number': 3,\n",
       "    'type': 'track',\n",
       "    'uri': 'spotify:track:5lWSa1rmuSL6OBPOnkAqoa'},\n",
       "   {'album': {'album_type': 'compilation',\n",
       "     'artists': [{'external_urls': {'spotify': 'https://open.spotify.com/artist/54R6Y0I7jGUCveDTtI21nb'},\n",
       "       'href': 'https://api.spotify.com/v1/artists/54R6Y0I7jGUCveDTtI21nb',\n",
       "       'id': '54R6Y0I7jGUCveDTtI21nb',\n",
       "       'name': 'Boney M.',\n",
       "       'type': 'artist',\n",
       "       'uri': 'spotify:artist:54R6Y0I7jGUCveDTtI21nb'}],\n",
       "     'external_urls': {'spotify': 'https://open.spotify.com/album/4PSRe9AYegkUyPHzbfpdrK'},\n",
       "     'href': 'https://api.spotify.com/v1/albums/4PSRe9AYegkUyPHzbfpdrK',\n",
       "     'id': '4PSRe9AYegkUyPHzbfpdrK',\n",
       "     'images': [{'height': 640,\n",
       "       'width': 640,\n",
       "       'url': 'https://i.scdn.co/image/ab67616d0000b27330831f10b40dde1d0acefa8c'},\n",
       "      {'height': 300,\n",
       "       'width': 300,\n",
       "       'url': 'https://i.scdn.co/image/ab67616d00001e0230831f10b40dde1d0acefa8c'},\n",
       "      {'height': 64,\n",
       "       'width': 64,\n",
       "       'url': 'https://i.scdn.co/image/ab67616d0000485130831f10b40dde1d0acefa8c'}],\n",
       "     'is_playable': True,\n",
       "     'name': 'Diamonds (40th Anniversary Edition)',\n",
       "     'release_date': '2015-03-27',\n",
       "     'release_date_precision': 'day',\n",
       "     'total_tracks': 53,\n",
       "     'type': 'album',\n",
       "     'uri': 'spotify:album:4PSRe9AYegkUyPHzbfpdrK'},\n",
       "    'artists': [{'external_urls': {'spotify': 'https://open.spotify.com/artist/54R6Y0I7jGUCveDTtI21nb'},\n",
       "      'href': 'https://api.spotify.com/v1/artists/54R6Y0I7jGUCveDTtI21nb',\n",
       "      'id': '54R6Y0I7jGUCveDTtI21nb',\n",
       "      'name': 'Boney M.',\n",
       "      'type': 'artist',\n",
       "      'uri': 'spotify:artist:54R6Y0I7jGUCveDTtI21nb'},\n",
       "     {'external_urls': {'spotify': 'https://open.spotify.com/artist/6spxYGp8SA2xvJOQ0VjFUV'},\n",
       "      'href': 'https://api.spotify.com/v1/artists/6spxYGp8SA2xvJOQ0VjFUV',\n",
       "      'id': '6spxYGp8SA2xvJOQ0VjFUV',\n",
       "      'name': 'Nick Raider (Christian Geller)',\n",
       "      'type': 'artist',\n",
       "      'uri': 'spotify:artist:6spxYGp8SA2xvJOQ0VjFUV'}],\n",
       "    'disc_number': 3,\n",
       "    'duration_ms': 208626,\n",
       "    'explicit': False,\n",
       "    'external_ids': {'isrc': 'DED161500020'},\n",
       "    'external_urls': {'spotify': 'https://open.spotify.com/track/2TVXrjsGdTCUNqF7ns2I15'},\n",
       "    'href': 'https://api.spotify.com/v1/tracks/2TVXrjsGdTCUNqF7ns2I15',\n",
       "    'id': '2TVXrjsGdTCUNqF7ns2I15',\n",
       "    'is_local': False,\n",
       "    'is_playable': True,\n",
       "    'name': 'Daddy Cool - Nick Raider Radio Mix',\n",
       "    'popularity': 53,\n",
       "    'preview_url': None,\n",
       "    'track_number': 6,\n",
       "    'type': 'track',\n",
       "    'uri': 'spotify:track:2TVXrjsGdTCUNqF7ns2I15'}]}}"
      ]
     },
     "execution_count": 105,
     "metadata": {},
     "output_type": "execute_result"
    }
   ],
   "source": [
    "import spotipy\n",
    "import pandas as pd\n",
    "import json\n",
    "from spotipy.oauth2 import SpotifyClientCredentials\n",
    "\n",
    "\n",
    "#Initialize SpotiPy with user credentials\n",
    "sp = spotipy.Spotify(auth_manager=SpotifyClientCredentials(client_id= config.CLIENT_ID,\n",
    "                                                           client_secret= config.CLIENT_SECRET))\n",
    "\n",
    "\n",
    "\n",
    "results = sp.search(q=\"daddy cool\",limit=5,market=\"GB\")\n",
    "results\n"
   ]
  },
  {
   "cell_type": "code",
   "execution_count": 106,
   "metadata": {},
   "outputs": [],
   "source": [
    "import pprint"
   ]
  },
  {
   "cell_type": "code",
   "execution_count": 107,
   "metadata": {},
   "outputs": [
    {
     "name": "stdout",
     "output_type": "stream",
     "text": [
      "{'tracks': {'href': 'https://api.spotify.com/v1/search?offset=0&limit=5&query=daddy%20cool&type=track&market=GB',\n",
      "            'items': [{'album': {'album_type': 'album',\n",
      "                                 'artists': [{'external_urls': {'spotify': 'https://open.spotify.com/artist/54R6Y0I7jGUCveDTtI21nb'},\n",
      "                                              'href': 'https://api.spotify.com/v1/artists/54R6Y0I7jGUCveDTtI21nb',\n",
      "                                              'id': '54R6Y0I7jGUCveDTtI21nb',\n",
      "                                              'name': 'Boney M.',\n",
      "                                              'type': 'artist',\n",
      "                                              'uri': 'spotify:artist:54R6Y0I7jGUCveDTtI21nb'}],\n",
      "                                 'external_urls': {'spotify': 'https://open.spotify.com/album/1KQUrny9y5zGpktF6hAGd4'},\n",
      "                                 'href': 'https://api.spotify.com/v1/albums/1KQUrny9y5zGpktF6hAGd4',\n",
      "                                 'id': '1KQUrny9y5zGpktF6hAGd4',\n",
      "                                 'images': [{'height': 640,\n",
      "                                             'url': 'https://i.scdn.co/image/ab67616d0000b273dafd1cd6e9537ec8463ea691',\n",
      "                                             'width': 640},\n",
      "                                            {'height': 300,\n",
      "                                             'url': 'https://i.scdn.co/image/ab67616d00001e02dafd1cd6e9537ec8463ea691',\n",
      "                                             'width': 300},\n",
      "                                            {'height': 64,\n",
      "                                             'url': 'https://i.scdn.co/image/ab67616d00004851dafd1cd6e9537ec8463ea691',\n",
      "                                             'width': 64}],\n",
      "                                 'is_playable': True,\n",
      "                                 'name': 'Take The Heat Off Me',\n",
      "                                 'release_date': '1976',\n",
      "                                 'release_date_precision': 'year',\n",
      "                                 'total_tracks': 10,\n",
      "                                 'type': 'album',\n",
      "                                 'uri': 'spotify:album:1KQUrny9y5zGpktF6hAGd4'},\n",
      "                       'artists': [{'external_urls': {'spotify': 'https://open.spotify.com/artist/54R6Y0I7jGUCveDTtI21nb'},\n",
      "                                    'href': 'https://api.spotify.com/v1/artists/54R6Y0I7jGUCveDTtI21nb',\n",
      "                                    'id': '54R6Y0I7jGUCveDTtI21nb',\n",
      "                                    'name': 'Boney M.',\n",
      "                                    'type': 'artist',\n",
      "                                    'uri': 'spotify:artist:54R6Y0I7jGUCveDTtI21nb'}],\n",
      "                       'disc_number': 1,\n",
      "                       'duration_ms': 208600,\n",
      "                       'explicit': False,\n",
      "                       'external_ids': {'isrc': 'DEC737600002'},\n",
      "                       'external_urls': {'spotify': 'https://open.spotify.com/track/3WMbD1OyfKuwWDWMNbPQ4g'},\n",
      "                       'href': 'https://api.spotify.com/v1/tracks/3WMbD1OyfKuwWDWMNbPQ4g',\n",
      "                       'id': '3WMbD1OyfKuwWDWMNbPQ4g',\n",
      "                       'is_local': False,\n",
      "                       'is_playable': True,\n",
      "                       'name': 'Daddy Cool',\n",
      "                       'popularity': 79,\n",
      "                       'preview_url': None,\n",
      "                       'track_number': 1,\n",
      "                       'type': 'track',\n",
      "                       'uri': 'spotify:track:3WMbD1OyfKuwWDWMNbPQ4g'},\n",
      "                      {'album': {'album_type': 'compilation',\n",
      "                                 'artists': [{'external_urls': {'spotify': 'https://open.spotify.com/artist/54R6Y0I7jGUCveDTtI21nb'},\n",
      "                                              'href': 'https://api.spotify.com/v1/artists/54R6Y0I7jGUCveDTtI21nb',\n",
      "                                              'id': '54R6Y0I7jGUCveDTtI21nb',\n",
      "                                              'name': 'Boney M.',\n",
      "                                              'type': 'artist',\n",
      "                                              'uri': 'spotify:artist:54R6Y0I7jGUCveDTtI21nb'}],\n",
      "                                 'external_urls': {'spotify': 'https://open.spotify.com/album/155cebHEGGBqYJAXKWJw6D'},\n",
      "                                 'href': 'https://api.spotify.com/v1/albums/155cebHEGGBqYJAXKWJw6D',\n",
      "                                 'id': '155cebHEGGBqYJAXKWJw6D',\n",
      "                                 'images': [{'height': 640,\n",
      "                                             'url': 'https://i.scdn.co/image/ab67616d0000b273d792d961638fd28f8d281947',\n",
      "                                             'width': 640},\n",
      "                                            {'height': 300,\n",
      "                                             'url': 'https://i.scdn.co/image/ab67616d00001e02d792d961638fd28f8d281947',\n",
      "                                             'width': 300},\n",
      "                                            {'height': 64,\n",
      "                                             'url': 'https://i.scdn.co/image/ab67616d00004851d792d961638fd28f8d281947',\n",
      "                                             'width': 64}],\n",
      "                                 'is_playable': True,\n",
      "                                 'name': 'Daddy Cool',\n",
      "                                 'release_date': '1994-03-14',\n",
      "                                 'release_date_precision': 'day',\n",
      "                                 'total_tracks': 16,\n",
      "                                 'type': 'album',\n",
      "                                 'uri': 'spotify:album:155cebHEGGBqYJAXKWJw6D'},\n",
      "                       'artists': [{'external_urls': {'spotify': 'https://open.spotify.com/artist/54R6Y0I7jGUCveDTtI21nb'},\n",
      "                                    'href': 'https://api.spotify.com/v1/artists/54R6Y0I7jGUCveDTtI21nb',\n",
      "                                    'id': '54R6Y0I7jGUCveDTtI21nb',\n",
      "                                    'name': 'Boney M.',\n",
      "                                    'type': 'artist',\n",
      "                                    'uri': 'spotify:artist:54R6Y0I7jGUCveDTtI21nb'}],\n",
      "                       'disc_number': 1,\n",
      "                       'duration_ms': 206093,\n",
      "                       'explicit': False,\n",
      "                       'external_ids': {'isrc': 'DEC737600002'},\n",
      "                       'external_urls': {'spotify': 'https://open.spotify.com/track/702Xo5V8OhlY2cQEczCT2j'},\n",
      "                       'href': 'https://api.spotify.com/v1/tracks/702Xo5V8OhlY2cQEczCT2j',\n",
      "                       'id': '702Xo5V8OhlY2cQEczCT2j',\n",
      "                       'is_local': False,\n",
      "                       'is_playable': True,\n",
      "                       'name': 'Daddy Cool',\n",
      "                       'popularity': 55,\n",
      "                       'preview_url': None,\n",
      "                       'track_number': 7,\n",
      "                       'type': 'track',\n",
      "                       'uri': 'spotify:track:702Xo5V8OhlY2cQEczCT2j'},\n",
      "                      {'album': {'album_type': 'compilation',\n",
      "                                 'artists': [{'external_urls': {'spotify': 'https://open.spotify.com/artist/54R6Y0I7jGUCveDTtI21nb'},\n",
      "                                              'href': 'https://api.spotify.com/v1/artists/54R6Y0I7jGUCveDTtI21nb',\n",
      "                                              'id': '54R6Y0I7jGUCveDTtI21nb',\n",
      "                                              'name': 'Boney M.',\n",
      "                                              'type': 'artist',\n",
      "                                              'uri': 'spotify:artist:54R6Y0I7jGUCveDTtI21nb'}],\n",
      "                                 'external_urls': {'spotify': 'https://open.spotify.com/album/155cebHEGGBqYJAXKWJw6D'},\n",
      "                                 'href': 'https://api.spotify.com/v1/albums/155cebHEGGBqYJAXKWJw6D',\n",
      "                                 'id': '155cebHEGGBqYJAXKWJw6D',\n",
      "                                 'images': [{'height': 640,\n",
      "                                             'url': 'https://i.scdn.co/image/ab67616d0000b273d792d961638fd28f8d281947',\n",
      "                                             'width': 640},\n",
      "                                            {'height': 300,\n",
      "                                             'url': 'https://i.scdn.co/image/ab67616d00001e02d792d961638fd28f8d281947',\n",
      "                                             'width': 300},\n",
      "                                            {'height': 64,\n",
      "                                             'url': 'https://i.scdn.co/image/ab67616d00004851d792d961638fd28f8d281947',\n",
      "                                             'width': 64}],\n",
      "                                 'is_playable': True,\n",
      "                                 'name': 'Daddy Cool',\n",
      "                                 'release_date': '1994-03-14',\n",
      "                                 'release_date_precision': 'day',\n",
      "                                 'total_tracks': 16,\n",
      "                                 'type': 'album',\n",
      "                                 'uri': 'spotify:album:155cebHEGGBqYJAXKWJw6D'},\n",
      "                       'artists': [{'external_urls': {'spotify': 'https://open.spotify.com/artist/54R6Y0I7jGUCveDTtI21nb'},\n",
      "                                    'href': 'https://api.spotify.com/v1/artists/54R6Y0I7jGUCveDTtI21nb',\n",
      "                                    'id': '54R6Y0I7jGUCveDTtI21nb',\n",
      "                                    'name': 'Boney M.',\n",
      "                                    'type': 'artist',\n",
      "                                    'uri': 'spotify:artist:54R6Y0I7jGUCveDTtI21nb'}],\n",
      "                       'disc_number': 1,\n",
      "                       'duration_ms': 220666,\n",
      "                       'explicit': False,\n",
      "                       'external_ids': {'isrc': 'DED160000010'},\n",
      "                       'external_urls': {'spotify': 'https://open.spotify.com/track/5lWSa1rmuSL6OBPOnkAqoa'},\n",
      "                       'href': 'https://api.spotify.com/v1/tracks/5lWSa1rmuSL6OBPOnkAqoa',\n",
      "                       'id': '5lWSa1rmuSL6OBPOnkAqoa',\n",
      "                       'is_local': False,\n",
      "                       'is_playable': True,\n",
      "                       'name': 'Rasputin',\n",
      "                       'popularity': 72,\n",
      "                       'preview_url': None,\n",
      "                       'track_number': 3,\n",
      "                       'type': 'track',\n",
      "                       'uri': 'spotify:track:5lWSa1rmuSL6OBPOnkAqoa'},\n",
      "                      {'album': {'album_type': 'compilation',\n",
      "                                 'artists': [{'external_urls': {'spotify': 'https://open.spotify.com/artist/54R6Y0I7jGUCveDTtI21nb'},\n",
      "                                              'href': 'https://api.spotify.com/v1/artists/54R6Y0I7jGUCveDTtI21nb',\n",
      "                                              'id': '54R6Y0I7jGUCveDTtI21nb',\n",
      "                                              'name': 'Boney M.',\n",
      "                                              'type': 'artist',\n",
      "                                              'uri': 'spotify:artist:54R6Y0I7jGUCveDTtI21nb'}],\n",
      "                                 'external_urls': {'spotify': 'https://open.spotify.com/album/4PSRe9AYegkUyPHzbfpdrK'},\n",
      "                                 'href': 'https://api.spotify.com/v1/albums/4PSRe9AYegkUyPHzbfpdrK',\n",
      "                                 'id': '4PSRe9AYegkUyPHzbfpdrK',\n",
      "                                 'images': [{'height': 640,\n",
      "                                             'url': 'https://i.scdn.co/image/ab67616d0000b27330831f10b40dde1d0acefa8c',\n",
      "                                             'width': 640},\n",
      "                                            {'height': 300,\n",
      "                                             'url': 'https://i.scdn.co/image/ab67616d00001e0230831f10b40dde1d0acefa8c',\n",
      "                                             'width': 300},\n",
      "                                            {'height': 64,\n",
      "                                             'url': 'https://i.scdn.co/image/ab67616d0000485130831f10b40dde1d0acefa8c',\n",
      "                                             'width': 64}],\n",
      "                                 'is_playable': True,\n",
      "                                 'name': 'Diamonds (40th Anniversary Edition)',\n",
      "                                 'release_date': '2015-03-27',\n",
      "                                 'release_date_precision': 'day',\n",
      "                                 'total_tracks': 53,\n",
      "                                 'type': 'album',\n",
      "                                 'uri': 'spotify:album:4PSRe9AYegkUyPHzbfpdrK'},\n",
      "                       'artists': [{'external_urls': {'spotify': 'https://open.spotify.com/artist/54R6Y0I7jGUCveDTtI21nb'},\n",
      "                                    'href': 'https://api.spotify.com/v1/artists/54R6Y0I7jGUCveDTtI21nb',\n",
      "                                    'id': '54R6Y0I7jGUCveDTtI21nb',\n",
      "                                    'name': 'Boney M.',\n",
      "                                    'type': 'artist',\n",
      "                                    'uri': 'spotify:artist:54R6Y0I7jGUCveDTtI21nb'},\n",
      "                                   {'external_urls': {'spotify': 'https://open.spotify.com/artist/6spxYGp8SA2xvJOQ0VjFUV'},\n",
      "                                    'href': 'https://api.spotify.com/v1/artists/6spxYGp8SA2xvJOQ0VjFUV',\n",
      "                                    'id': '6spxYGp8SA2xvJOQ0VjFUV',\n",
      "                                    'name': 'Nick Raider (Christian Geller)',\n",
      "                                    'type': 'artist',\n",
      "                                    'uri': 'spotify:artist:6spxYGp8SA2xvJOQ0VjFUV'}],\n",
      "                       'disc_number': 3,\n",
      "                       'duration_ms': 208626,\n",
      "                       'explicit': False,\n",
      "                       'external_ids': {'isrc': 'DED161500020'},\n",
      "                       'external_urls': {'spotify': 'https://open.spotify.com/track/2TVXrjsGdTCUNqF7ns2I15'},\n",
      "                       'href': 'https://api.spotify.com/v1/tracks/2TVXrjsGdTCUNqF7ns2I15',\n",
      "                       'id': '2TVXrjsGdTCUNqF7ns2I15',\n",
      "                       'is_local': False,\n",
      "                       'is_playable': True,\n",
      "                       'name': 'Daddy Cool - Nick Raider Radio Mix',\n",
      "                       'popularity': 53,\n",
      "                       'preview_url': None,\n",
      "                       'track_number': 6,\n",
      "                       'type': 'track',\n",
      "                       'uri': 'spotify:track:2TVXrjsGdTCUNqF7ns2I15'}],\n",
      "            'limit': 5,\n",
      "            'next': 'https://api.spotify.com/v1/search?offset=5&limit=5&query=daddy%20cool&type=track&market=GB',\n",
      "            'offset': 0,\n",
      "            'previous': None,\n",
      "            'total': 903}}\n"
     ]
    }
   ],
   "source": [
    "pprint.pprint(results)"
   ]
  },
  {
   "cell_type": "code",
   "execution_count": 108,
   "metadata": {},
   "outputs": [
    {
     "name": "stdout",
     "output_type": "stream",
     "text": [
      "'3WMbD1OyfKuwWDWMNbPQ4g'\n"
     ]
    }
   ],
   "source": [
    "pprint.pprint(results[\"tracks\"][\"items\"][0][\"id\"])"
   ]
  },
  {
   "cell_type": "markdown",
   "metadata": {
    "id": "wlYAUHZMGEPp"
   },
   "source": [
    "# Understanding the json"
   ]
  },
  {
   "cell_type": "code",
   "execution_count": 109,
   "metadata": {
    "colab": {
     "base_uri": "https://localhost:8080/"
    },
    "executionInfo": {
     "elapsed": 336,
     "status": "ok",
     "timestamp": 1623748232522,
     "user": {
      "displayName": "Ignacio Soteras",
      "photoUrl": "",
      "userId": "02050793736257155229"
     },
     "user_tz": -120
    },
    "id": "gQzoV9fjEbm6",
    "outputId": "0747fac5-b2f5-44a0-a9cd-393ed3196cbf",
    "scrolled": true
   },
   "outputs": [
    {
     "name": "stdout",
     "output_type": "stream",
     "text": [
      "The json file has the following keys:  ['tracks']\n",
      "The 'tracks' key has the following child keys:  ['href', 'limit', 'next', 'offset', 'previous', 'total', 'items']\n",
      "The query we made is:  https://api.spotify.com/v1/search?offset=0&limit=5&query=daddy%20cool&type=track&market=GB\n",
      "The song's info is contained in:  [{'album': {'album_type': 'album', 'artists': [{'external_urls': {'spotify': 'https://open.spotify.com/artist/54R6Y0I7jGUCveDTtI21nb'}, 'href': 'https://api.spotify.com/v1/artists/54R6Y0I7jGUCveDTtI21nb', 'id': '54R6Y0I7jGUCveDTtI21nb', 'name': 'Boney M.', 'type': 'artist', 'uri': 'spotify:artist:54R6Y0I7jGUCveDTtI21nb'}], 'external_urls': {'spotify': 'https://open.spotify.com/album/1KQUrny9y5zGpktF6hAGd4'}, 'href': 'https://api.spotify.com/v1/albums/1KQUrny9y5zGpktF6hAGd4', 'id': '1KQUrny9y5zGpktF6hAGd4', 'images': [{'height': 640, 'width': 640, 'url': 'https://i.scdn.co/image/ab67616d0000b273dafd1cd6e9537ec8463ea691'}, {'height': 300, 'width': 300, 'url': 'https://i.scdn.co/image/ab67616d00001e02dafd1cd6e9537ec8463ea691'}, {'height': 64, 'width': 64, 'url': 'https://i.scdn.co/image/ab67616d00004851dafd1cd6e9537ec8463ea691'}], 'is_playable': True, 'name': 'Take The Heat Off Me', 'release_date': '1976', 'release_date_precision': 'year', 'total_tracks': 10, 'type': 'album', 'uri': 'spotify:album:1KQUrny9y5zGpktF6hAGd4'}, 'artists': [{'external_urls': {'spotify': 'https://open.spotify.com/artist/54R6Y0I7jGUCveDTtI21nb'}, 'href': 'https://api.spotify.com/v1/artists/54R6Y0I7jGUCveDTtI21nb', 'id': '54R6Y0I7jGUCveDTtI21nb', 'name': 'Boney M.', 'type': 'artist', 'uri': 'spotify:artist:54R6Y0I7jGUCveDTtI21nb'}], 'disc_number': 1, 'duration_ms': 208600, 'explicit': False, 'external_ids': {'isrc': 'DEC737600002'}, 'external_urls': {'spotify': 'https://open.spotify.com/track/3WMbD1OyfKuwWDWMNbPQ4g'}, 'href': 'https://api.spotify.com/v1/tracks/3WMbD1OyfKuwWDWMNbPQ4g', 'id': '3WMbD1OyfKuwWDWMNbPQ4g', 'is_local': False, 'is_playable': True, 'name': 'Daddy Cool', 'popularity': 79, 'preview_url': None, 'track_number': 1, 'type': 'track', 'uri': 'spotify:track:3WMbD1OyfKuwWDWMNbPQ4g'}, {'album': {'album_type': 'compilation', 'artists': [{'external_urls': {'spotify': 'https://open.spotify.com/artist/54R6Y0I7jGUCveDTtI21nb'}, 'href': 'https://api.spotify.com/v1/artists/54R6Y0I7jGUCveDTtI21nb', 'id': '54R6Y0I7jGUCveDTtI21nb', 'name': 'Boney M.', 'type': 'artist', 'uri': 'spotify:artist:54R6Y0I7jGUCveDTtI21nb'}], 'external_urls': {'spotify': 'https://open.spotify.com/album/155cebHEGGBqYJAXKWJw6D'}, 'href': 'https://api.spotify.com/v1/albums/155cebHEGGBqYJAXKWJw6D', 'id': '155cebHEGGBqYJAXKWJw6D', 'images': [{'height': 640, 'width': 640, 'url': 'https://i.scdn.co/image/ab67616d0000b273d792d961638fd28f8d281947'}, {'height': 300, 'width': 300, 'url': 'https://i.scdn.co/image/ab67616d00001e02d792d961638fd28f8d281947'}, {'height': 64, 'width': 64, 'url': 'https://i.scdn.co/image/ab67616d00004851d792d961638fd28f8d281947'}], 'is_playable': True, 'name': 'Daddy Cool', 'release_date': '1994-03-14', 'release_date_precision': 'day', 'total_tracks': 16, 'type': 'album', 'uri': 'spotify:album:155cebHEGGBqYJAXKWJw6D'}, 'artists': [{'external_urls': {'spotify': 'https://open.spotify.com/artist/54R6Y0I7jGUCveDTtI21nb'}, 'href': 'https://api.spotify.com/v1/artists/54R6Y0I7jGUCveDTtI21nb', 'id': '54R6Y0I7jGUCveDTtI21nb', 'name': 'Boney M.', 'type': 'artist', 'uri': 'spotify:artist:54R6Y0I7jGUCveDTtI21nb'}], 'disc_number': 1, 'duration_ms': 206093, 'explicit': False, 'external_ids': {'isrc': 'DEC737600002'}, 'external_urls': {'spotify': 'https://open.spotify.com/track/702Xo5V8OhlY2cQEczCT2j'}, 'href': 'https://api.spotify.com/v1/tracks/702Xo5V8OhlY2cQEczCT2j', 'id': '702Xo5V8OhlY2cQEczCT2j', 'is_local': False, 'is_playable': True, 'name': 'Daddy Cool', 'popularity': 55, 'preview_url': None, 'track_number': 7, 'type': 'track', 'uri': 'spotify:track:702Xo5V8OhlY2cQEczCT2j'}, {'album': {'album_type': 'compilation', 'artists': [{'external_urls': {'spotify': 'https://open.spotify.com/artist/54R6Y0I7jGUCveDTtI21nb'}, 'href': 'https://api.spotify.com/v1/artists/54R6Y0I7jGUCveDTtI21nb', 'id': '54R6Y0I7jGUCveDTtI21nb', 'name': 'Boney M.', 'type': 'artist', 'uri': 'spotify:artist:54R6Y0I7jGUCveDTtI21nb'}], 'external_urls': {'spotify': 'https://open.spotify.com/album/155cebHEGGBqYJAXKWJw6D'}, 'href': 'https://api.spotify.com/v1/albums/155cebHEGGBqYJAXKWJw6D', 'id': '155cebHEGGBqYJAXKWJw6D', 'images': [{'height': 640, 'width': 640, 'url': 'https://i.scdn.co/image/ab67616d0000b273d792d961638fd28f8d281947'}, {'height': 300, 'width': 300, 'url': 'https://i.scdn.co/image/ab67616d00001e02d792d961638fd28f8d281947'}, {'height': 64, 'width': 64, 'url': 'https://i.scdn.co/image/ab67616d00004851d792d961638fd28f8d281947'}], 'is_playable': True, 'name': 'Daddy Cool', 'release_date': '1994-03-14', 'release_date_precision': 'day', 'total_tracks': 16, 'type': 'album', 'uri': 'spotify:album:155cebHEGGBqYJAXKWJw6D'}, 'artists': [{'external_urls': {'spotify': 'https://open.spotify.com/artist/54R6Y0I7jGUCveDTtI21nb'}, 'href': 'https://api.spotify.com/v1/artists/54R6Y0I7jGUCveDTtI21nb', 'id': '54R6Y0I7jGUCveDTtI21nb', 'name': 'Boney M.', 'type': 'artist', 'uri': 'spotify:artist:54R6Y0I7jGUCveDTtI21nb'}], 'disc_number': 1, 'duration_ms': 220666, 'explicit': False, 'external_ids': {'isrc': 'DED160000010'}, 'external_urls': {'spotify': 'https://open.spotify.com/track/5lWSa1rmuSL6OBPOnkAqoa'}, 'href': 'https://api.spotify.com/v1/tracks/5lWSa1rmuSL6OBPOnkAqoa', 'id': '5lWSa1rmuSL6OBPOnkAqoa', 'is_local': False, 'is_playable': True, 'name': 'Rasputin', 'popularity': 72, 'preview_url': None, 'track_number': 3, 'type': 'track', 'uri': 'spotify:track:5lWSa1rmuSL6OBPOnkAqoa'}, {'album': {'album_type': 'compilation', 'artists': [{'external_urls': {'spotify': 'https://open.spotify.com/artist/54R6Y0I7jGUCveDTtI21nb'}, 'href': 'https://api.spotify.com/v1/artists/54R6Y0I7jGUCveDTtI21nb', 'id': '54R6Y0I7jGUCveDTtI21nb', 'name': 'Boney M.', 'type': 'artist', 'uri': 'spotify:artist:54R6Y0I7jGUCveDTtI21nb'}], 'external_urls': {'spotify': 'https://open.spotify.com/album/4PSRe9AYegkUyPHzbfpdrK'}, 'href': 'https://api.spotify.com/v1/albums/4PSRe9AYegkUyPHzbfpdrK', 'id': '4PSRe9AYegkUyPHzbfpdrK', 'images': [{'height': 640, 'width': 640, 'url': 'https://i.scdn.co/image/ab67616d0000b27330831f10b40dde1d0acefa8c'}, {'height': 300, 'width': 300, 'url': 'https://i.scdn.co/image/ab67616d00001e0230831f10b40dde1d0acefa8c'}, {'height': 64, 'width': 64, 'url': 'https://i.scdn.co/image/ab67616d0000485130831f10b40dde1d0acefa8c'}], 'is_playable': True, 'name': 'Diamonds (40th Anniversary Edition)', 'release_date': '2015-03-27', 'release_date_precision': 'day', 'total_tracks': 53, 'type': 'album', 'uri': 'spotify:album:4PSRe9AYegkUyPHzbfpdrK'}, 'artists': [{'external_urls': {'spotify': 'https://open.spotify.com/artist/54R6Y0I7jGUCveDTtI21nb'}, 'href': 'https://api.spotify.com/v1/artists/54R6Y0I7jGUCveDTtI21nb', 'id': '54R6Y0I7jGUCveDTtI21nb', 'name': 'Boney M.', 'type': 'artist', 'uri': 'spotify:artist:54R6Y0I7jGUCveDTtI21nb'}, {'external_urls': {'spotify': 'https://open.spotify.com/artist/6spxYGp8SA2xvJOQ0VjFUV'}, 'href': 'https://api.spotify.com/v1/artists/6spxYGp8SA2xvJOQ0VjFUV', 'id': '6spxYGp8SA2xvJOQ0VjFUV', 'name': 'Nick Raider (Christian Geller)', 'type': 'artist', 'uri': 'spotify:artist:6spxYGp8SA2xvJOQ0VjFUV'}], 'disc_number': 3, 'duration_ms': 208626, 'explicit': False, 'external_ids': {'isrc': 'DED161500020'}, 'external_urls': {'spotify': 'https://open.spotify.com/track/2TVXrjsGdTCUNqF7ns2I15'}, 'href': 'https://api.spotify.com/v1/tracks/2TVXrjsGdTCUNqF7ns2I15', 'id': '2TVXrjsGdTCUNqF7ns2I15', 'is_local': False, 'is_playable': True, 'name': 'Daddy Cool - Nick Raider Radio Mix', 'popularity': 53, 'preview_url': None, 'track_number': 6, 'type': 'track', 'uri': 'spotify:track:2TVXrjsGdTCUNqF7ns2I15'}]\n",
      "The limit of the query we've made is:  5\n",
      "The next page if any:  https://api.spotify.com/v1/search?offset=5&limit=5&query=daddy%20cool&type=track&market=GB\n",
      "The starting webpage:  0\n",
      "Starting webpage:  None\n",
      "Total number of results:  903\n"
     ]
    }
   ],
   "source": [
    "print(\"The json file has the following keys: \",list(results.keys())) # We can see that we only have tracks\n",
    "print(\"The 'tracks' key has the following child keys: \",list(results[\"tracks\"].keys())) # Let's check the values\n",
    "print(\"The query we made is: \",results[\"tracks\"][\"href\"]) # Query we have searched \n",
    "print(\"The song's info is contained in: \",results[\"tracks\"][\"items\"]) #items (actual tracks)\n",
    "print(\"The limit of the query we've made is: \",results[\"tracks\"][\"limit\"]) #Limit we have chosen\n",
    "print(\"The next page if any: \",results[\"tracks\"][\"next\"]) #link to the next page (next 50 tracks)\n",
    "print(\"The starting webpage: \",results[\"tracks\"][\"offset\"]) # Actual offset (starting point)\n",
    "print(\"Starting webpage: \",results[\"tracks\"][\"previous\"]) #Previous search\n",
    "print(\"Total number of results: \",results[\"tracks\"][\"total\"]) # Number of matches"
   ]
  },
  {
   "cell_type": "markdown",
   "metadata": {
    "id": "ma33RhJ3GyyD"
   },
   "source": [
    "## Other Info"
   ]
  },
  {
   "cell_type": "code",
   "execution_count": 110,
   "metadata": {
    "colab": {
     "base_uri": "https://localhost:8080/",
     "height": 35
    },
    "executionInfo": {
     "elapsed": 314,
     "status": "ok",
     "timestamp": 1623748532709,
     "user": {
      "displayName": "Ignacio Soteras",
      "photoUrl": "",
      "userId": "02050793736257155229"
     },
     "user_tz": -120
    },
    "id": "rpRcNkuhG1Ht",
    "outputId": "bb6cc417-17bd-404f-d31c-302a97bf9ffe"
   },
   "outputs": [
    {
     "data": {
      "text/plain": [
       "'spotify:track:3WMbD1OyfKuwWDWMNbPQ4g'"
      ]
     },
     "execution_count": 110,
     "metadata": {},
     "output_type": "execute_result"
    }
   ],
   "source": [
    "results[\"tracks\"][\"items\"][0][\"artists\"] # Track artists\n",
    "results[\"tracks\"][\"items\"][0][\"id\"] # Track ID\n",
    "results[\"tracks\"][\"items\"][0][\"name\"] # Track name\n",
    "results[\"tracks\"][\"items\"][0][\"popularity\"] # Popularity index\n",
    "results[\"tracks\"][\"items\"][0][\"uri\"] # Basically ID"
   ]
  },
  {
   "cell_type": "code",
   "execution_count": 111,
   "metadata": {
    "scrolled": true
   },
   "outputs": [
    {
     "data": {
      "text/plain": [
       "4"
      ]
     },
     "execution_count": 111,
     "metadata": {},
     "output_type": "execute_result"
    }
   ],
   "source": [
    "len(results['tracks'][\"items\"])"
   ]
  },
  {
   "cell_type": "markdown",
   "metadata": {},
   "source": [
    "## Getting the track_id"
   ]
  },
  {
   "cell_type": "code",
   "execution_count": 112,
   "metadata": {},
   "outputs": [
    {
     "data": {
      "text/plain": [
       "'3WMbD1OyfKuwWDWMNbPQ4g'"
      ]
     },
     "execution_count": 112,
     "metadata": {},
     "output_type": "execute_result"
    }
   ],
   "source": [
    "track_id=results[\"tracks\"][\"items\"][0][\"id\"]\n",
    "track_id"
   ]
  },
  {
   "cell_type": "code",
   "execution_count": 113,
   "metadata": {
    "colab": {
     "base_uri": "https://localhost:8080/"
    },
    "executionInfo": {
     "elapsed": 330,
     "status": "ok",
     "timestamp": 1623747443303,
     "user": {
      "displayName": "Ignacio Soteras",
      "photoUrl": "",
      "userId": "02050793736257155229"
     },
     "user_tz": -120
    },
    "id": "Pe8hlEUPYu3a",
    "outputId": "57786b5a-1877-44a6-9249-72cec7204733"
   },
   "outputs": [
    {
     "name": "stdout",
     "output_type": "stream",
     "text": [
      "The name of song is: 'Daddy Cool' and the id is: 3WMbD1OyfKuwWDWMNbPQ4g\n",
      "The name of song is: 'Daddy Cool' and the id is: 702Xo5V8OhlY2cQEczCT2j\n",
      "The name of song is: 'Rasputin' and the id is: 5lWSa1rmuSL6OBPOnkAqoa\n",
      "The name of song is: 'Daddy Cool - Nick Raider Radio Mix' and the id is: 2TVXrjsGdTCUNqF7ns2I15\n"
     ]
    }
   ],
   "source": [
    "for item in results['tracks']['items']:\n",
    "    print(\"The name of song is: '{}' and the id is: {}\".format(item['name'],item[\"id\"]))"
   ]
  },
  {
   "cell_type": "markdown",
   "metadata": {},
   "source": [
    "## Embedded track player"
   ]
  },
  {
   "cell_type": "code",
   "execution_count": 121,
   "metadata": {},
   "outputs": [
    {
     "data": {
      "text/html": [
       "\n",
       "        <iframe\n",
       "            width=\"320\"\n",
       "            height=\"800\"\n",
       "            src=\"https://open.spotify.com/embed/track/3WMbD1OyfKuwWDWMNbPQ4g?frameborder=0&allowtransparency=true&allow=encrypted-media\"\n",
       "            frameborder=\"0\"\n",
       "            allowfullscreen\n",
       "            \n",
       "        ></iframe>\n",
       "        "
      ],
      "text/plain": [
       "<IPython.lib.display.IFrame at 0x22bc9128bd0>"
      ]
     },
     "execution_count": 121,
     "metadata": {},
     "output_type": "execute_result"
    }
   ],
   "source": [
    "from IPython.display import IFrame\n",
    "\n",
    "track_id = '3WMbD1OyfKuwWDWMNbPQ4g'\n",
    "#track_id= 'spotify:track:3hgl7EQwTutSm6PESsB7gZ'\n",
    "IFrame(src=\"https://open.spotify.com/embed/track/\"+track_id,\n",
    "       width=\"320\",\n",
    "       height=\"800\",\n",
    "       frameborder=\"0\",\n",
    "       allowtransparency=\"true\",\n",
    "       allow=\"encrypted-media\",\n",
    "      )"
   ]
  },
  {
   "cell_type": "code",
   "execution_count": 115,
   "metadata": {},
   "outputs": [],
   "source": [
    "def play_song(track_id):\n",
    "    return IFrame(src=\"https://open.spotify.com/embed/track/\"+track_id,\n",
    "       width=\"320\",\n",
    "       height=\"80\",\n",
    "       frameborder=\"0\",\n",
    "       allowtransparency=\"true\",\n",
    "       allow=\"encrypted-media\",\n",
    "      )"
   ]
  },
  {
   "cell_type": "code",
   "execution_count": 116,
   "metadata": {},
   "outputs": [
    {
     "data": {
      "text/html": [
       "\n",
       "        <iframe\n",
       "            width=\"320\"\n",
       "            height=\"80\"\n",
       "            src=\"https://open.spotify.com/embed/track/3WMbD1OyfKuwWDWMNbPQ4g?frameborder=0&allowtransparency=true&allow=encrypted-media\"\n",
       "            frameborder=\"0\"\n",
       "            allowfullscreen\n",
       "            \n",
       "        ></iframe>\n",
       "        "
      ],
      "text/plain": [
       "<IPython.lib.display.IFrame at 0x22bc9256a10>"
      ]
     },
     "execution_count": 116,
     "metadata": {},
     "output_type": "execute_result"
    }
   ],
   "source": [
    "play_song('3WMbD1OyfKuwWDWMNbPQ4g')"
   ]
  },
  {
   "cell_type": "code",
   "execution_count": 117,
   "metadata": {},
   "outputs": [],
   "source": [
    "import random"
   ]
  },
  {
   "cell_type": "code",
   "execution_count": 125,
   "metadata": {},
   "outputs": [
    {
     "data": {
      "text/html": [
       "\n",
       "        <iframe\n",
       "            width=\"320\"\n",
       "            height=\"80\"\n",
       "            src=\"https://open.spotify.com/embed/track/6Tsu3OsuMz4KEGKbOYd6A0?frameborder=0&allowtransparency=true&allow=encrypted-media\"\n",
       "            frameborder=\"0\"\n",
       "            allowfullscreen\n",
       "            \n",
       "        ></iframe>\n",
       "        "
      ],
      "text/plain": [
       "<IPython.lib.display.IFrame at 0x22bc90ef950>"
      ]
     },
     "metadata": {},
     "output_type": "display_data"
    }
   ],
   "source": [
    "my_song= ['hypnotize','daddy cool', 'back to black']\n",
    "user_input=input('Please enter the song')\n",
    "\n",
    "if user_input == 'popular':\n",
    "    song = random.choice(my_song)\n",
    "    id= sp.search (q = song, limit=1, market='GB')['tracks']['items'][0]['id']\n",
    "    \n",
    "    #print(f\"Playing song: {song} (ID: {id})\")\n",
    "    display(play_song(id)) # Define this function if needed\n",
    "else:\n",
    "    print('wee')\n",
    "\n"
   ]
  },
  {
   "cell_type": "code",
   "execution_count": 119,
   "metadata": {},
   "outputs": [],
   "source": [
    "result= sp.search(q=my_song,limit=5,market=\"GB\")"
   ]
  },
  {
   "cell_type": "code",
   "execution_count": 120,
   "metadata": {},
   "outputs": [
    {
     "data": {
      "text/plain": [
       "{'tracks': {'href': 'https://api.spotify.com/v1/search?offset=0&limit=5&query=hypnotize&type=track&market=GB',\n",
       "  'limit': 5,\n",
       "  'next': 'https://api.spotify.com/v1/search?offset=5&limit=5&query=hypnotize&type=track&market=GB',\n",
       "  'offset': 0,\n",
       "  'previous': None,\n",
       "  'total': 906,\n",
       "  'items': [{'album': {'album_type': 'compilation',\n",
       "     'artists': [{'external_urls': {'spotify': 'https://open.spotify.com/artist/5me0Irg2ANcsgc93uaYrpb'},\n",
       "       'href': 'https://api.spotify.com/v1/artists/5me0Irg2ANcsgc93uaYrpb',\n",
       "       'id': '5me0Irg2ANcsgc93uaYrpb',\n",
       "       'name': 'The Notorious B.I.G.',\n",
       "       'type': 'artist',\n",
       "       'uri': 'spotify:artist:5me0Irg2ANcsgc93uaYrpb'}],\n",
       "     'external_urls': {'spotify': 'https://open.spotify.com/album/5XqEf16OrHdmMoNS1b6WDg'},\n",
       "     'href': 'https://api.spotify.com/v1/albums/5XqEf16OrHdmMoNS1b6WDg',\n",
       "     'id': '5XqEf16OrHdmMoNS1b6WDg',\n",
       "     'images': [{'height': 640,\n",
       "       'width': 640,\n",
       "       'url': 'https://i.scdn.co/image/ab67616d0000b273639fea4197e676cfe9512e04'},\n",
       "      {'height': 300,\n",
       "       'width': 300,\n",
       "       'url': 'https://i.scdn.co/image/ab67616d00001e02639fea4197e676cfe9512e04'},\n",
       "      {'height': 64,\n",
       "       'width': 64,\n",
       "       'url': 'https://i.scdn.co/image/ab67616d00004851639fea4197e676cfe9512e04'}],\n",
       "     'is_playable': True,\n",
       "     'name': 'Greatest Hits',\n",
       "     'release_date': '2007-03-02',\n",
       "     'release_date_precision': 'day',\n",
       "     'total_tracks': 17,\n",
       "     'type': 'album',\n",
       "     'uri': 'spotify:album:5XqEf16OrHdmMoNS1b6WDg'},\n",
       "    'artists': [{'external_urls': {'spotify': 'https://open.spotify.com/artist/5me0Irg2ANcsgc93uaYrpb'},\n",
       "      'href': 'https://api.spotify.com/v1/artists/5me0Irg2ANcsgc93uaYrpb',\n",
       "      'id': '5me0Irg2ANcsgc93uaYrpb',\n",
       "      'name': 'The Notorious B.I.G.',\n",
       "      'type': 'artist',\n",
       "      'uri': 'spotify:artist:5me0Irg2ANcsgc93uaYrpb'}],\n",
       "    'disc_number': 1,\n",
       "    'duration_ms': 230000,\n",
       "    'explicit': True,\n",
       "    'external_ids': {'isrc': 'USBB40706425'},\n",
       "    'external_urls': {'spotify': 'https://open.spotify.com/track/6Tsu3OsuMz4KEGKbOYd6A0'},\n",
       "    'href': 'https://api.spotify.com/v1/tracks/6Tsu3OsuMz4KEGKbOYd6A0',\n",
       "    'id': '6Tsu3OsuMz4KEGKbOYd6A0',\n",
       "    'is_local': False,\n",
       "    'is_playable': True,\n",
       "    'name': 'Hypnotize - 2007 Remaster',\n",
       "    'popularity': 73,\n",
       "    'preview_url': None,\n",
       "    'track_number': 3,\n",
       "    'type': 'track',\n",
       "    'uri': 'spotify:track:6Tsu3OsuMz4KEGKbOYd6A0'},\n",
       "   {'album': {'album_type': 'album',\n",
       "     'artists': [{'external_urls': {'spotify': 'https://open.spotify.com/artist/5me0Irg2ANcsgc93uaYrpb'},\n",
       "       'href': 'https://api.spotify.com/v1/artists/5me0Irg2ANcsgc93uaYrpb',\n",
       "       'id': '5me0Irg2ANcsgc93uaYrpb',\n",
       "       'name': 'The Notorious B.I.G.',\n",
       "       'type': 'artist',\n",
       "       'uri': 'spotify:artist:5me0Irg2ANcsgc93uaYrpb'}],\n",
       "     'external_urls': {'spotify': 'https://open.spotify.com/album/7dRdaGSxgcBdJnrOviQRuB'},\n",
       "     'href': 'https://api.spotify.com/v1/albums/7dRdaGSxgcBdJnrOviQRuB',\n",
       "     'id': '7dRdaGSxgcBdJnrOviQRuB',\n",
       "     'images': [{'height': 640,\n",
       "       'width': 640,\n",
       "       'url': 'https://i.scdn.co/image/ab67616d0000b273fde79b88e2a659c394c5ae30'},\n",
       "      {'height': 300,\n",
       "       'width': 300,\n",
       "       'url': 'https://i.scdn.co/image/ab67616d00001e02fde79b88e2a659c394c5ae30'},\n",
       "      {'height': 64,\n",
       "       'width': 64,\n",
       "       'url': 'https://i.scdn.co/image/ab67616d00004851fde79b88e2a659c394c5ae30'}],\n",
       "     'is_playable': True,\n",
       "     'name': 'Life After Death (2014 Remastered Edition)',\n",
       "     'release_date': '1997-03-04',\n",
       "     'release_date_precision': 'day',\n",
       "     'total_tracks': 24,\n",
       "     'type': 'album',\n",
       "     'uri': 'spotify:album:7dRdaGSxgcBdJnrOviQRuB'},\n",
       "    'artists': [{'external_urls': {'spotify': 'https://open.spotify.com/artist/5me0Irg2ANcsgc93uaYrpb'},\n",
       "      'href': 'https://api.spotify.com/v1/artists/5me0Irg2ANcsgc93uaYrpb',\n",
       "      'id': '5me0Irg2ANcsgc93uaYrpb',\n",
       "      'name': 'The Notorious B.I.G.',\n",
       "      'type': 'artist',\n",
       "      'uri': 'spotify:artist:5me0Irg2ANcsgc93uaYrpb'}],\n",
       "    'disc_number': 1,\n",
       "    'duration_ms': 229826,\n",
       "    'explicit': True,\n",
       "    'external_ids': {'isrc': 'USAT21402725'},\n",
       "    'external_urls': {'spotify': 'https://open.spotify.com/track/7KwZNVEaqikRSBSpyhXK2j'},\n",
       "    'href': 'https://api.spotify.com/v1/tracks/7KwZNVEaqikRSBSpyhXK2j',\n",
       "    'id': '7KwZNVEaqikRSBSpyhXK2j',\n",
       "    'is_local': False,\n",
       "    'is_playable': True,\n",
       "    'name': 'Hypnotize - 2014 Remaster',\n",
       "    'popularity': 84,\n",
       "    'preview_url': None,\n",
       "    'track_number': 3,\n",
       "    'type': 'track',\n",
       "    'uri': 'spotify:track:7KwZNVEaqikRSBSpyhXK2j'},\n",
       "   {'album': {'album_type': 'single',\n",
       "     'artists': [{'external_urls': {'spotify': 'https://open.spotify.com/artist/47hUcoCKWTMDoMJieAFiGt'},\n",
       "       'href': 'https://api.spotify.com/v1/artists/47hUcoCKWTMDoMJieAFiGt',\n",
       "       'id': '47hUcoCKWTMDoMJieAFiGt',\n",
       "       'name': 'Omesi',\n",
       "       'type': 'artist',\n",
       "       'uri': 'spotify:artist:47hUcoCKWTMDoMJieAFiGt'}],\n",
       "     'external_urls': {'spotify': 'https://open.spotify.com/album/480uyj8I4juhmcewWo1BeU'},\n",
       "     'href': 'https://api.spotify.com/v1/albums/480uyj8I4juhmcewWo1BeU',\n",
       "     'id': '480uyj8I4juhmcewWo1BeU',\n",
       "     'images': [{'height': 640,\n",
       "       'width': 640,\n",
       "       'url': 'https://i.scdn.co/image/ab67616d0000b273ee4501fb5d46de841a170a99'},\n",
       "      {'height': 300,\n",
       "       'width': 300,\n",
       "       'url': 'https://i.scdn.co/image/ab67616d00001e02ee4501fb5d46de841a170a99'},\n",
       "      {'height': 64,\n",
       "       'width': 64,\n",
       "       'url': 'https://i.scdn.co/image/ab67616d00004851ee4501fb5d46de841a170a99'}],\n",
       "     'is_playable': True,\n",
       "     'name': 'Hypnotized',\n",
       "     'release_date': '2024-07-31',\n",
       "     'release_date_precision': 'day',\n",
       "     'total_tracks': 1,\n",
       "     'type': 'album',\n",
       "     'uri': 'spotify:album:480uyj8I4juhmcewWo1BeU'},\n",
       "    'artists': [{'external_urls': {'spotify': 'https://open.spotify.com/artist/47hUcoCKWTMDoMJieAFiGt'},\n",
       "      'href': 'https://api.spotify.com/v1/artists/47hUcoCKWTMDoMJieAFiGt',\n",
       "      'id': '47hUcoCKWTMDoMJieAFiGt',\n",
       "      'name': 'Omesi',\n",
       "      'type': 'artist',\n",
       "      'uri': 'spotify:artist:47hUcoCKWTMDoMJieAFiGt'}],\n",
       "    'disc_number': 1,\n",
       "    'duration_ms': 181487,\n",
       "    'explicit': False,\n",
       "    'external_ids': {'isrc': 'USLD91761773'},\n",
       "    'external_urls': {'spotify': 'https://open.spotify.com/track/6VDBvYhk9tC52uQyqeodDc'},\n",
       "    'href': 'https://api.spotify.com/v1/tracks/6VDBvYhk9tC52uQyqeodDc',\n",
       "    'id': '6VDBvYhk9tC52uQyqeodDc',\n",
       "    'is_local': False,\n",
       "    'is_playable': True,\n",
       "    'name': 'Hypnotized',\n",
       "    'popularity': 47,\n",
       "    'preview_url': None,\n",
       "    'track_number': 1,\n",
       "    'type': 'track',\n",
       "    'uri': 'spotify:track:6VDBvYhk9tC52uQyqeodDc'},\n",
       "   {'album': {'album_type': 'album',\n",
       "     'artists': [{'external_urls': {'spotify': 'https://open.spotify.com/artist/7m5S1htMISjftuV2U12VsE'},\n",
       "       'href': 'https://api.spotify.com/v1/artists/7m5S1htMISjftuV2U12VsE',\n",
       "       'id': '7m5S1htMISjftuV2U12VsE',\n",
       "       'name': 'D-Influence',\n",
       "       'type': 'artist',\n",
       "       'uri': 'spotify:artist:7m5S1htMISjftuV2U12VsE'}],\n",
       "     'external_urls': {'spotify': 'https://open.spotify.com/album/3aAjtHggC4wNCWgMxLQ0zE'},\n",
       "     'href': 'https://api.spotify.com/v1/albums/3aAjtHggC4wNCWgMxLQ0zE',\n",
       "     'id': '3aAjtHggC4wNCWgMxLQ0zE',\n",
       "     'images': [{'height': 640,\n",
       "       'width': 640,\n",
       "       'url': 'https://i.scdn.co/image/ab67616d0000b273e030f83b8274919e606419ca'},\n",
       "      {'height': 300,\n",
       "       'width': 300,\n",
       "       'url': 'https://i.scdn.co/image/ab67616d00001e02e030f83b8274919e606419ca'},\n",
       "      {'height': 64,\n",
       "       'width': 64,\n",
       "       'url': 'https://i.scdn.co/image/ab67616d00004851e030f83b8274919e606419ca'}],\n",
       "     'is_playable': True,\n",
       "     'name': 'London',\n",
       "     'release_date': '1997-01-01',\n",
       "     'release_date_precision': 'day',\n",
       "     'total_tracks': 12,\n",
       "     'type': 'album',\n",
       "     'uri': 'spotify:album:3aAjtHggC4wNCWgMxLQ0zE'},\n",
       "    'artists': [{'external_urls': {'spotify': 'https://open.spotify.com/artist/7m5S1htMISjftuV2U12VsE'},\n",
       "      'href': 'https://api.spotify.com/v1/artists/7m5S1htMISjftuV2U12VsE',\n",
       "      'id': '7m5S1htMISjftuV2U12VsE',\n",
       "      'name': 'D-Influence',\n",
       "      'type': 'artist',\n",
       "      'uri': 'spotify:artist:7m5S1htMISjftuV2U12VsE'}],\n",
       "    'disc_number': 1,\n",
       "    'duration_ms': 252493,\n",
       "    'explicit': False,\n",
       "    'external_ids': {'isrc': 'GBBND9700077'},\n",
       "    'external_urls': {'spotify': 'https://open.spotify.com/track/0dlevPtIeiplDUgwDuc45u'},\n",
       "    'href': 'https://api.spotify.com/v1/tracks/0dlevPtIeiplDUgwDuc45u',\n",
       "    'id': '0dlevPtIeiplDUgwDuc45u',\n",
       "    'is_local': False,\n",
       "    'is_playable': True,\n",
       "    'name': 'Hypnotize',\n",
       "    'popularity': 45,\n",
       "    'preview_url': None,\n",
       "    'track_number': 1,\n",
       "    'type': 'track',\n",
       "    'uri': 'spotify:track:0dlevPtIeiplDUgwDuc45u'}]}}"
      ]
     },
     "execution_count": 120,
     "metadata": {},
     "output_type": "execute_result"
    }
   ],
   "source": [
    "result"
   ]
  },
  {
   "cell_type": "code",
   "execution_count": null,
   "metadata": {},
   "outputs": [],
   "source": []
  }
 ],
 "metadata": {
  "colab": {
   "authorship_tag": "ABX9TyPVWC1t3Am5oxfsHrz0cF36",
   "mount_file_id": "1f3HsS5F0GzS75tlHyrwhBGlTWbE0nG4o",
   "name": "Code_along_Spotify_structure.ipynb",
   "provenance": []
  },
  "kernelspec": {
   "display_name": "Python 3",
   "language": "python",
   "name": "python3"
  },
  "language_info": {
   "codemirror_mode": {
    "name": "ipython",
    "version": 3
   },
   "file_extension": ".py",
   "mimetype": "text/x-python",
   "name": "python",
   "nbconvert_exporter": "python",
   "pygments_lexer": "ipython3",
   "version": "3.11.5"
  },
  "toc": {
   "base_numbering": 1,
   "nav_menu": {},
   "number_sections": true,
   "sideBar": true,
   "skip_h1_title": false,
   "title_cell": "Table of Contents",
   "title_sidebar": "Contents",
   "toc_cell": false,
   "toc_position": {},
   "toc_section_display": true,
   "toc_window_display": false
  },
  "varInspector": {
   "cols": {
    "lenName": 16,
    "lenType": 16,
    "lenVar": 40
   },
   "kernels_config": {
    "python": {
     "delete_cmd_postfix": "",
     "delete_cmd_prefix": "del ",
     "library": "var_list.py",
     "varRefreshCmd": "print(var_dic_list())"
    },
    "r": {
     "delete_cmd_postfix": ") ",
     "delete_cmd_prefix": "rm(",
     "library": "var_list.r",
     "varRefreshCmd": "cat(var_dic_list()) "
    }
   },
   "types_to_exclude": [
    "module",
    "function",
    "builtin_function_or_method",
    "instance",
    "_Feature"
   ],
   "window_display": false
  }
 },
 "nbformat": 4,
 "nbformat_minor": 1
}
